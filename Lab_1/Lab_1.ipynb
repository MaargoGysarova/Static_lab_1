{
 "cells": [
  {
   "cell_type": "code",
   "execution_count": 1,
   "id": "319dbd552e938e09",
   "metadata": {
    "ExecuteTime": {
     "end_time": "2023-09-18T10:13:22.002222Z",
     "start_time": "2023-09-18T10:13:21.988177Z"
    },
    "collapsed": false
   },
   "outputs": [
    {
     "ename": "ModuleNotFoundError",
     "evalue": "No module named 'numpy'",
     "output_type": "error",
     "traceback": [
      "\u001b[0;31m---------------------------------------------------------------------------\u001b[0m",
      "\u001b[0;31mModuleNotFoundError\u001b[0m                       Traceback (most recent call last)",
      "\u001b[1;32m/Users/margogusarova/VScode/Static/Static_lab_1/Lab_1/Lab_1.ipynb Ячейка 1\u001b[0m line \u001b[0;36m1\n\u001b[0;32m----> <a href='vscode-notebook-cell:/Users/margogusarova/VScode/Static/Static_lab_1/Lab_1/Lab_1.ipynb#W0sZmlsZQ%3D%3D?line=0'>1</a>\u001b[0m \u001b[39mimport\u001b[39;00m \u001b[39mnumpy\u001b[39;00m \u001b[39mas\u001b[39;00m \u001b[39mnp\u001b[39;00m\n\u001b[1;32m      <a href='vscode-notebook-cell:/Users/margogusarova/VScode/Static/Static_lab_1/Lab_1/Lab_1.ipynb#W0sZmlsZQ%3D%3D?line=1'>2</a>\u001b[0m \u001b[39mimport\u001b[39;00m \u001b[39mmatplotlib\u001b[39;00m\u001b[39m.\u001b[39;00m\u001b[39mpyplot\u001b[39;00m \u001b[39mas\u001b[39;00m \u001b[39mplt\u001b[39;00m\n\u001b[1;32m      <a href='vscode-notebook-cell:/Users/margogusarova/VScode/Static/Static_lab_1/Lab_1/Lab_1.ipynb#W0sZmlsZQ%3D%3D?line=2'>3</a>\u001b[0m \u001b[39mimport\u001b[39;00m \u001b[39mscipy\u001b[39;00m\u001b[39m.\u001b[39;00m\u001b[39mstats\u001b[39;00m \u001b[39mas\u001b[39;00m \u001b[39msts\u001b[39;00m\n",
      "\u001b[0;31mModuleNotFoundError\u001b[0m: No module named 'numpy'"
     ]
    }
   ],
   "source": [
    "import numpy as np\n",
    "import matplotlib.pyplot as plt\n",
    "import scipy.stats as sts\n",
    "import math"
   ]
  },
  {
   "cell_type": "markdown",
   "id": "bf02fbee824eee1e",
   "metadata": {
    "collapsed": false
   },
   "source": [
    "Пункт 1.1"
   ]
  },
  {
   "cell_type": "markdown",
   "id": "6b7c5139af86c292",
   "metadata": {
    "collapsed": false
   },
   "source": [
    "Генерация генеральной совокупности нормального распределения"
   ]
  },
  {
   "cell_type": "code",
   "execution_count": 25,
   "id": "6c6981b379401cc1",
   "metadata": {
    "ExecuteTime": {
     "end_time": "2023-09-18T10:18:42.343474Z",
     "start_time": "2023-09-18T10:18:42.327750Z"
    },
    "collapsed": false
   },
   "outputs": [],
   "source": [
    "def generation_norm_random(a=-2, sigma=3, n_points=110):\n",
    "    massiv = np.random.normal(a, sigma, n_points)\n",
    "    print(massiv)\n",
    "    return massiv"
   ]
  },
  {
   "cell_type": "code",
   "execution_count": 22,
   "id": "initial_id",
   "metadata": {
    "ExecuteTime": {
     "end_time": "2023-09-18T10:14:27.819373Z",
     "start_time": "2023-09-18T10:14:27.786476Z"
    },
    "collapsed": true
   },
   "outputs": [],
   "source": [
    "def plot_norm(a=0,sigma=1,n_points=110):\n",
    "    massiv = generation_norm_random(a, sigma, n_points)\n",
    "    plt.hist(massiv, density=True, histtype='stepfilled', alpha=0.8)\n",
    "    plt.title('Гистограмма нормального распределения')\n",
    "    plt.show()"
   ]
  },
  {
   "cell_type": "markdown",
   "id": "4e6eadd54768b515",
   "metadata": {
    "collapsed": false
   },
   "source": [
    "Вычисление стандартное отклонение значений ряда измерений в ручную"
   ]
  },
  {
   "cell_type": "code",
   "execution_count": 23,
   "id": "a1b832c83e6dca0f",
   "metadata": {
    "ExecuteTime": {
     "end_time": "2023-09-18T10:14:30.025097Z",
     "start_time": "2023-09-18T10:14:30.017660Z"
    },
    "collapsed": false
   },
   "outputs": [],
   "source": [
    "def calc_std(massiv):\n",
    "    sum = 0\n",
    "    for i in massiv:\n",
    "        sum += i\n",
    "    mean = sum / len(massiv)\n",
    "    sum = 0\n",
    "    for i in massiv:\n",
    "        sum += (i - mean) ** 2\n",
    "    return math.sqrt(sum / (len(massiv) - 1))"
   ]
  },
  {
   "cell_type": "markdown",
   "id": "71ded7d76456c8d8",
   "metadata": {
    "collapsed": false
   },
   "source": [
    "Расчет числа интервалов и длину интервала группироваки по правилу Скотта"
   ]
  },
  {
   "cell_type": "code",
   "execution_count": 10,
   "id": "cea25b14de9b8067",
   "metadata": {
    "ExecuteTime": {
     "end_time": "2023-09-18T10:09:07.474724Z",
     "start_time": "2023-09-18T10:09:07.422076Z"
    },
    "collapsed": false
   },
   "outputs": [],
   "source": [
    "def calc_k_scott(n_points, massiv):\n",
    "    h = 3.5 * calc_std(massiv) / (n_points ** (1 / 3))\n",
    "    k = int((max(massiv) - min(massiv)) / h)\n",
    "    return h, k"
   ]
  },
  {
   "cell_type": "markdown",
   "id": "ec75446e9d5a6b82",
   "metadata": {
    "collapsed": false
   },
   "source": [
    "Вычисление суммы абсолютных частот в интервалах группировки и построить диагармму ассолютных частот"
   ]
  },
  {
   "cell_type": "code",
   "execution_count": 11,
   "id": "562d09999bda3040",
   "metadata": {
    "ExecuteTime": {
     "end_time": "2023-09-18T10:09:07.476552Z",
     "start_time": "2023-09-18T10:09:07.428431Z"
    },
    "collapsed": false
   },
   "outputs": [],
   "source": [
    "def calc_abs_freq(massiv, k, h):\n",
    "    ## вычисление суммы абсолютных частот в интервалах группировки через библиотеку numpy\n",
    "    abs_freq = np.histogram(massiv, bins=k, range=(min(massiv), max(massiv)))[0]\n",
    "    ## диаграмма ассолютных частот\n",
    "    plt.bar(np.arange(k), abs_freq, width=1, alpha=0.8)\n",
    "    plt.title('Диаграмма абсолютных частот')\n",
    "    plt.show()\n",
    "    return abs_freq"
   ]
  }
 ],
 "metadata": {
  "kernelspec": {
   "display_name": "Python 3",
   "language": "python",
   "name": "python3"
  },
  "language_info": {
   "codemirror_mode": {
    "name": "ipython",
    "version": 3
   },
   "file_extension": ".py",
   "mimetype": "text/x-python",
   "name": "python",
   "nbconvert_exporter": "python",
   "pygments_lexer": "ipython3",
   "version": "3.9.6"
  }
 },
 "nbformat": 4,
 "nbformat_minor": 5
}
