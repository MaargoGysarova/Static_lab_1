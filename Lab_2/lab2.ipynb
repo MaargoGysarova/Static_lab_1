{
 "cells": [
  {
   "cell_type": "code",
   "execution_count": 1,
   "metadata": {
    "ExecuteTime": {
     "end_time": "2023-10-16T09:03:32.090963Z",
     "start_time": "2023-10-16T09:03:30.979745Z"
    }
   },
   "outputs": [],
   "source": [
    "import numpy as np\n",
    "import matplotlib.pyplot as plt\n",
    "import math\n",
    "import pandas as pd\n",
    "import statistics\n",
    "import scipy.stats as sts\n",
    "n = 16\n",
    "a = -1\n",
    "gamma = 0.9\n",
    "sigma = 4"
   ]
  },
  {
   "cell_type": "code",
   "execution_count": 2,
   "metadata": {
    "ExecuteTime": {
     "end_time": "2023-10-16T09:03:33.932614Z",
     "start_time": "2023-10-16T09:03:33.913410Z"
    }
   },
   "outputs": [
    {
     "name": "stdout",
     "output_type": "stream",
     "text": [
      "t = 1.5 F_s=0.9331927987311419\n",
      "t = 1.51 F_s=0.9344782879110836\n",
      "t = 1.52 F_s=0.9357445121810641\n",
      "t = 1.53 F_s=0.9369916355360216\n",
      "t = 1.54 F_s=0.9382198232881881\n",
      "t = 1.55 F_s=0.939429241997941\n",
      "t = 1.56 F_s=0.940620059405207\n",
      "t = 1.57 F_s=0.941792444361447\n",
      "t = 1.58 F_s=0.9429465667622459\n",
      "t = 1.59 F_s=0.9440825974805306\n",
      "t = 1.6 F_s=0.945200708300442\n",
      "t = 1.61 F_s=0.9463010718518803\n",
      "t = 1.62 F_s=0.9473838615457479\n",
      "t = 1.63 F_s=0.9484492515099107\n",
      "t = 1.6400000000000001 F_s=0.9494974165258963\n",
      "t = 1.65 F_s=0.9505285319663519\n",
      "t = 1.66 F_s=0.9515427737332772\n",
      "t = 1.67 F_s=0.9525403181970526\n",
      "t = 1.68 F_s=0.9535213421362799\n",
      "t = 1.69 F_s=0.9544860226784502\n"
     ]
    }
   ],
   "source": [
    "sample = np.random.normal(a, sigma, n)#создание выборки\n",
    "mean = statistics.mean(sample)\n",
    "\n",
    "for i in range(0,20):\n",
    "    t = 1.5 + i*0.01\n",
    "    F_s =  sts.norm().cdf(t)\n",
    "    print (f't = {t} F_s={F_s}')"
   ]
  },
  {
   "cell_type": "code",
   "execution_count": 3,
   "metadata": {
    "ExecuteTime": {
     "end_time": "2023-10-16T09:03:36.587328Z",
     "start_time": "2023-10-16T09:03:36.581009Z"
    }
   },
   "outputs": [
    {
     "name": "stdout",
     "output_type": "stream",
     "text": [
      "1.6448536269514722\n"
     ]
    }
   ],
   "source": [
    "t2 = (1 + gamma)/2\n",
    "t =  sts.norm().ppf(t2)\n",
    "print(t)"
   ]
  },
  {
   "cell_type": "code",
   "execution_count": 4,
   "outputs": [
    {
     "name": "stdout",
     "output_type": "stream",
     "text": [
      "-2.7036061121426407 0.5861011417603039\n"
     ]
    }
   ],
   "source": [
    "delta = (t*sigma) / np.sqrt(n)\n",
    "I_left = mean - delta\n",
    "I_right = mean + delta\n",
    "print(I_left,I_right)"
   ],
   "metadata": {
    "collapsed": false,
    "ExecuteTime": {
     "end_time": "2023-10-16T09:03:47.831085Z",
     "start_time": "2023-10-16T09:03:47.811432Z"
    }
   }
  },
  {
   "cell_type": "code",
   "execution_count": 6,
   "outputs": [
    {
     "name": "stdout",
     "output_type": "stream",
     "text": [
      "(-2.644853626951473, 0.6448536269514722)\n"
     ]
    }
   ],
   "source": [
    "interval = sts.norm.interval(gamma, a , sigma/math.sqrt(n))\n",
    "print(interval)"
   ],
   "metadata": {
    "collapsed": false,
    "ExecuteTime": {
     "end_time": "2023-10-16T09:09:43.686243Z",
     "start_time": "2023-10-16T09:09:43.676441Z"
    }
   }
  },
  {
   "cell_type": "code",
   "execution_count": 5,
   "outputs": [
    {
     "name": "stdout",
     "output_type": "stream",
     "text": [
      "0.899\n"
     ]
    }
   ],
   "source": [
    "count = 0.0\n",
    "M = 1000\n",
    "for j in range(0,M):\n",
    "    sample = np.random.normal(a, sigma, n)#создание выборки\n",
    "    mean = statistics.mean(sample)\n",
    "\n",
    "    interval = sts.norm.interval(gamma, mean, sigma/math.sqrt(n))\n",
    "    \n",
    "    if interval[0]<a and interval[1]>a:\n",
    "        count +=1\n",
    "\n",
    "GAMMA = count/M\n",
    "print(GAMMA)"
   ],
   "metadata": {
    "collapsed": false,
    "ExecuteTime": {
     "end_time": "2023-10-16T09:09:11.597609Z",
     "start_time": "2023-10-16T09:09:11.465538Z"
    }
   }
  },
  {
   "cell_type": "code",
   "execution_count": null,
   "outputs": [],
   "source": [],
   "metadata": {
    "collapsed": false
   }
  }
 ],
 "metadata": {
  "kernelspec": {
   "display_name": "Python 3",
   "language": "python",
   "name": "python3"
  },
  "language_info": {
   "codemirror_mode": {
    "name": "ipython",
    "version": 3
   },
   "file_extension": ".py",
   "mimetype": "text/x-python",
   "name": "python",
   "nbconvert_exporter": "python",
   "pygments_lexer": "ipython3",
   "version": "3.8.0"
  },
  "orig_nbformat": 4
 },
 "nbformat": 4,
 "nbformat_minor": 2
}
