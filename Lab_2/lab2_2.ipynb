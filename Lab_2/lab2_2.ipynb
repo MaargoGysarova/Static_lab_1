{
 "cells": [
  {
   "cell_type": "code",
   "execution_count": 2,
   "metadata": {},
   "outputs": [],
   "source": [
    "import numpy as np\n",
    "import matplotlib.pyplot as plt\n",
    "import math\n",
    "import pandas as pd\n",
    "import statistics\n",
    "import scipy.stats as sts\n",
    "n = 16\n",
    "a = -1\n",
    "gamma = 0.9\n",
    "sigma = 4\n",
    "M= 1950\n",
    "K = 180"
   ]
  },
  {
   "cell_type": "markdown",
   "metadata": {},
   "source": [
    "1"
   ]
  },
  {
   "cell_type": "code",
   "execution_count": 3,
   "metadata": {},
   "outputs": [
    {
     "name": "stdout",
     "output_type": "stream",
     "text": [
      "0.897948717948718\n"
     ]
    }
   ],
   "source": [
    "count = 0.0\n",
    "for j in range(0,M):\n",
    "    sample = np.random.normal(a, sigma, n)#создание выборки\n",
    "    \n",
    "    #s\n",
    "    S = np.var(sample, ddof=1)\n",
    "    # Определение квантилей\n",
    "    alpha = 1 - gamma\n",
    "    chi2_alpha_over_2_lower = sts.chi2.ppf(alpha / 2, df=n - 1)\n",
    "    chi2_alpha_over_2_upper = sts.chi2.ppf(1 - alpha / 2, df=n - 1)\n",
    "    #границы доверительного интервала для дисперсии\n",
    "    confidence_intervals = [(n - 1) * S / chi2_alpha_over_2_upper, (n - 1) * S / chi2_alpha_over_2_lower]\n",
    "    \n",
    "    if confidence_intervals[0]<sigma**2 and confidence_intervals[1]>sigma**2:\n",
    "        count +=1\n",
    "\n",
    "GAMMA = count/M\n",
    "print(GAMMA)"
   ]
  },
  {
   "cell_type": "markdown",
   "metadata": {},
   "source": [
    "2"
   ]
  },
  {
   "cell_type": "code",
   "execution_count": 10,
   "metadata": {},
   "outputs": [],
   "source": [
    "K_items = []\n",
    "for i in range(0, K):\n",
    "    count = 0.0\n",
    "    for j in range(0,M):\n",
    "        sample_i = np.random.normal(a, sigma, n)#создание выборки\n",
    "        \n",
    "        #s\n",
    "        S = np.var(sample_i, ddof=1)\n",
    "        # Определение квантилей\n",
    "        alpha = 1 - gamma\n",
    "        chi2_alpha_over_2_lower = sts.chi2.ppf(alpha / 2, df=n - 1)\n",
    "        chi2_alpha_over_2_upper = sts.chi2.ppf(1 - alpha / 2, df=n - 1)\n",
    "        #границы доверительного интервала для дисперсии\n",
    "        confidence_intervals = [(n - 1) * S / chi2_alpha_over_2_upper, (n - 1) * S / chi2_alpha_over_2_lower]\n",
    "        \n",
    "        if confidence_intervals[0]<sigma**2 and confidence_intervals[1]>sigma**2:\n",
    "            count +=1\n",
    "\n",
    "    K_items.append(count/M)\n"
   ]
  },
  {
   "cell_type": "code",
   "execution_count": 11,
   "metadata": {},
   "outputs": [
    {
     "name": "stdout",
     "output_type": "stream",
     "text": [
      "Математическое ожидание: 0.8995270655270655\n",
      "Дисперсия: 4.2790006737865205e-05\n",
      "Эксцесс: -0.08270494705938525\n",
      "Коэфициент ассиметрии: 0.11888501214423962\n",
      "Стандартное отклонение: 0.006541407091587039\n",
      "Медиана: 0.8994871794871795\n"
     ]
    }
   ],
   "source": [
    "print(f'Математическое ожидание: {statistics.mean(K_items)}')\n",
    "print(f'Дисперсия: {statistics.variance(K_items)}') \n",
    "print(f'Эксцесс: {sts.kurtosis(K_items)}')\n",
    "print(f'Коэфициент ассиметрии: {sts.skew(K_items)}')\n",
    "print(f'Стандартное отклонение: {math.sqrt(statistics.variance(K_items))}')\n",
    "print(f'Медиана: {statistics.median(K_items)}')"
   ]
  },
  {
   "cell_type": "code",
   "execution_count": 12,
   "metadata": {},
   "outputs": [
    {
     "data": {
      "text/plain": [
       "(array([ 6.37254902, 19.11764706, 31.8627451 , 55.75980392, 60.53921569,\n",
       "        43.01470588, 43.01470588, 17.5245098 ,  4.77941176,  4.77941176]),\n",
       " array([0.88358974, 0.88707692, 0.8905641 , 0.89405128, 0.89753846,\n",
       "        0.90102564, 0.90451282, 0.908     , 0.91148718, 0.91497436,\n",
       "        0.91846154]),\n",
       " <BarContainer object of 10 artists>)"
      ]
     },
     "execution_count": 12,
     "metadata": {},
     "output_type": "execute_result"
    },
    {
     "data": {
      "image/png": "[encoded data removed]",
      "text/plain": [
       "<Figure size 640x480 with 1 Axes>"
      ]
     },
     "metadata": {},
     "output_type": "display_data"
    }
   ],
   "source": [
    "plt.hist(K_items, density=True)"
   ]
  },
  {
   "cell_type": "code",
   "execution_count": 13,
   "metadata": {},
   "outputs": [
    {
     "data": {
      "text/plain": [
       "<Axes: >"
      ]
     },
     "execution_count": 13,
     "metadata": {},
     "output_type": "execute_result"
    },
    {
     "data": {
      "image/png": "[encoded data removed]",
      "text/plain": [
       "<Figure size 640x480 with 1 Axes>"
      ]
     },
     "metadata": {},
     "output_type": "display_data"
    }
   ],
   "source": [
    "data_frame = pd.DataFrame(K_items)\n",
    "data_frame.boxplot()"
   ]
  },
  {
   "cell_type": "markdown",
   "metadata": {},
   "source": [
    "3"
   ]
  },
  {
   "cell_type": "code",
   "execution_count": 19,
   "metadata": {},
   "outputs": [
    {
     "name": "stdout",
     "output_type": "stream",
     "text": [
      "0.2856410256410256\n"
     ]
    }
   ],
   "source": [
    "k1 = 3\n",
    "k2 = 3\n",
    "size_U = 6\n",
    "count = 0.0\n",
    "for i in range(0, M):\n",
    "    \n",
    "    sample_W = []\n",
    "    for j in range(0, n):\n",
    "        U_values = sts.f.rvs(k1, k2, size=size_U)\n",
    "        W = (1/size_U) * np.sum(U_values)\n",
    "        sample_W.append(W)\n",
    " \n",
    "    S = np.var(sample_W, ddof=1)\n",
    "    alpha = 1 - gamma\n",
    "    chi2_alpha_over_2_lower = sts.chi2.ppf(alpha / 2, df=n - 1)\n",
    "    chi2_alpha_over_2_upper = sts.chi2.ppf(1 - alpha / 2, df=n - 1)\n",
    "    #границы доверительного интервала для дисперсии\n",
    "    confidence_intervals = [(n - 1) * S / chi2_alpha_over_2_upper, (n - 1) * S / chi2_alpha_over_2_lower]\n",
    "\n",
    "    if confidence_intervals[0]<k1*k2 and confidence_intervals[1]>k1*k2:\n",
    "        count +=1\n",
    "\n",
    "    ##count = np.sum((S >= confidence_intervals[0]) & (S <= confidence_intervals[1]))\n",
    "GAMMA = count/M\n",
    "print(GAMMA)"
   ]
  },
  {
   "cell_type": "markdown",
   "metadata": {},
   "source": [
    "4"
   ]
  },
  {
   "cell_type": "code",
   "execution_count": 21,
   "metadata": {},
   "outputs": [
    {
     "name": "stdout",
     "output_type": "stream",
     "text": [
      "Математическое ожидание: 0.2927122507122507\n",
      "Дисперсия: 0.00012131386331071187\n",
      "Эксцесс: -0.239258922099304\n",
      "Коэфициент ассиметрии: 0.07371159970911309\n",
      "Стандартное отклонение: 0.011014257274583333\n",
      "Медиана: 0.29307692307692307\n"
     ]
    }
   ],
   "source": [
    "k1 = 3\n",
    "k2 = 3\n",
    "size_U = 6\n",
    "count = 0.0\n",
    "K_items3 = []\n",
    "for i in range(0, K):\n",
    "    count = 0.0\n",
    "    for i in range(0, M):\n",
    "        sample_W = []\n",
    "        for j in range(0, n):\n",
    "            U_values = sts.f.rvs(k1, k2, size=size_U)\n",
    "            W = (1/size_U) * np.sum(U_values)\n",
    "            sample_W.append(W)\n",
    "    \n",
    "        S = np.var(sample_W, ddof=1)\n",
    "        alpha = 1 - gamma\n",
    "        chi2_alpha_over_2_lower = sts.chi2.ppf(alpha / 2, df=n - 1)\n",
    "        chi2_alpha_over_2_upper = sts.chi2.ppf(1 - alpha / 2, df=n - 1)\n",
    "        #границы доверительного интервала для дисперсии\n",
    "        confidence_intervals = [(n - 1) * S / chi2_alpha_over_2_upper, (n - 1) * S / chi2_alpha_over_2_lower]\n",
    "\n",
    "        if confidence_intervals[0]<k1*k2 and confidence_intervals[1]>k1*k2:\n",
    "            count +=1\n",
    "\n",
    "    K_items3.append(count/M)\n",
    "\n",
    "print(f'Математическое ожидание: {statistics.mean(K_items3)}')\n",
    "print(f'Дисперсия: {statistics.variance(K_items3)}') \n",
    "print(f'Эксцесс: {sts.kurtosis(K_items3)}')\n",
    "print(f'Коэфициент ассиметрии: {sts.skew(K_items3)}')\n",
    "print(f'Стандартное отклонение: {math.sqrt(statistics.variance(K_items3))}')\n",
    "print(f'Медиана: {statistics.median(K_items3)}')"
   ]
  },
  {
   "cell_type": "code",
   "execution_count": 22,
   "metadata": {},
   "outputs": [
    {
     "data": {
      "text/plain": [
       "(array([ 2.70833333,  5.41666667, 23.47222222, 28.88888889, 27.08333333,\n",
       "        33.40277778, 25.27777778, 12.63888889,  1.80555556,  1.80555556]),\n",
       " array([0.26410256, 0.27025641, 0.27641026, 0.2825641 , 0.28871795,\n",
       "        0.29487179, 0.30102564, 0.30717949, 0.31333333, 0.31948718,\n",
       "        0.32564103]),\n",
       " <BarContainer object of 10 artists>)"
      ]
     },
     "execution_count": 22,
     "metadata": {},
     "output_type": "execute_result"
    },
    {
     "data": {
      "image/png": "[encoded data removed]",
      "text/plain": [
       "<Figure size 640x480 with 1 Axes>"
      ]
     },
     "metadata": {},
     "output_type": "display_data"
    }
   ],
   "source": [
    "plt.hist(K_items3, density=True)"
   ]
  },
  {
   "cell_type": "code",
   "execution_count": 23,
   "metadata": {},
   "outputs": [
    {
     "data": {
      "text/plain": [
       "<Axes: >"
      ]
     },
     "execution_count": 23,
     "metadata": {},
     "output_type": "execute_result"
    },
    {
     "data": {
      "image/png": "[encoded data removed]",
      "text/plain": [
       "<Figure size 640x480 with 1 Axes>"
      ]
     },
     "metadata": {},
     "output_type": "display_data"
    }
   ],
   "source": [
    "data_frame = pd.DataFrame(K_items)\n",
    "data_frame.boxplot()"
   ]
  }
 ],
 "metadata": {
  "kernelspec": {
   "display_name": "Python 3",
   "language": "python",
   "name": "python3"
  },
  "language_info": {
   "codemirror_mode": {
    "name": "ipython",
    "version": 3
   },
   "file_extension": ".py",
   "mimetype": "text/x-python",
   "name": "python",
   "nbconvert_exporter": "python",
   "pygments_lexer": "ipython3",
   "version": "3.9.6"
  },
  "orig_nbformat": 4
 },
 "nbformat": 4,
 "nbformat_minor": 2
}
