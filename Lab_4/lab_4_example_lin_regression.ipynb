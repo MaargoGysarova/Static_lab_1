{
 "cells": [
  {
   "cell_type": "markdown",
   "id": "cb141546",
   "metadata": {
    "toc": true
   },
   "source": [
    "<h1>Table of Contents<span class=\"tocSkip\"></span></h1>\n",
    "<div class=\"toc\"><ul class=\"toc-item\"></ul></div>"
   ]
  },
  {
   "cell_type": "code",
   "execution_count": 5,
   "id": "79b42723",
   "metadata": {},
   "outputs": [],
   "source": [
    "import numpy as np\n",
    "from sklearn.linear_model import LinearRegression\n",
    "import scipy as sp\n",
    "import matplotlib.pyplot as plt\n",
    "from scipy.optimize import fsolve\n",
    "import pandas as pd\n",
    "import math\n",
    "import operator\n",
    "import seaborn as sns\n",
    "import matplotlib.pyplot as plt\n",
    "from scipy.optimize import fsolve"
   ]
  },
  {
   "cell_type": "code",
   "execution_count": 6,
   "id": "2fa33aff",
   "metadata": {},
   "outputs": [],
   "source": [
    "##### построение моделей линейной регрессии см. https://realpython.com/linear-regression-in-python/"
   ]
  },
  {
   "cell_type": "code",
   "execution_count": 7,
   "id": "cfbe9e48",
   "metadata": {},
   "outputs": [],
   "source": [
    "#### загружаем набор данных \"Ирисы Фишера\"\n",
    "iris_set = sns.load_dataset(\"iris\")\n",
    "### описание набора данных\n",
    "### sepal- чашелистник\n",
    "### petal - лепесток\n",
    "### species setosa - сорт щетинистый\n",
    "### species versicolour - сорт разноцветный\n",
    "### species virginica - сорт виржиника"
   ]
  },
  {
   "cell_type": "code",
   "execution_count": 8,
   "id": "9d8763fd",
   "metadata": {},
   "outputs": [
    {
     "name": "stdout",
     "output_type": "stream",
     "text": [
      "     sepal_length  sepal_width  petal_length  petal_width    species\n",
      "0             5.1          3.5           1.4          0.2     setosa\n",
      "1             4.9          3.0           1.4          0.2     setosa\n",
      "2             4.7          3.2           1.3          0.2     setosa\n",
      "3             4.6          3.1           1.5          0.2     setosa\n",
      "4             5.0          3.6           1.4          0.2     setosa\n",
      "..            ...          ...           ...          ...        ...\n",
      "145           6.7          3.0           5.2          2.3  virginica\n",
      "146           6.3          2.5           5.0          1.9  virginica\n",
      "147           6.5          3.0           5.2          2.0  virginica\n",
      "148           6.2          3.4           5.4          2.3  virginica\n",
      "149           5.9          3.0           5.1          1.8  virginica\n",
      "\n",
      "[150 rows x 5 columns]\n"
     ]
    }
   ],
   "source": [
    "print(iris_set)"
   ]
  },
  {
   "cell_type": "code",
   "execution_count": 9,
   "id": "97acba95",
   "metadata": {},
   "outputs": [
    {
     "ename": "TypeError",
     "evalue": "Could not convert ['setosasetosasetosasetosasetosasetosasetosasetosasetosasetosasetosasetosasetosasetosasetosasetosasetosasetosasetosasetosasetosasetosasetosasetosasetosasetosasetosasetosasetosasetosasetosasetosasetosasetosasetosasetosasetosasetosasetosasetosasetosasetosasetosasetosasetosasetosasetosasetosasetosasetosa'] to numeric",
     "output_type": "error",
     "traceback": [
      "\u001b[0;31m---------------------------------------------------------------------------\u001b[0m",
      "\u001b[0;31mTypeError\u001b[0m                                 Traceback (most recent call last)",
      "\u001b[1;32m/Users/margogusarova/VScode/Static/Static_lab_1/Lab_4/lab_4_example_lin_regression.ipynb Ячейка 6\u001b[0m line \u001b[0;36m4\n\u001b[1;32m      <a href='vscode-notebook-cell:/Users/margogusarova/VScode/Static/Static_lab_1/Lab_4/lab_4_example_lin_regression.ipynb#W5sZmlsZQ%3D%3D?line=1'>2</a>\u001b[0m class_feature_means \u001b[39m=\u001b[39m pd\u001b[39m.\u001b[39mDataFrame()\n\u001b[1;32m      <a href='vscode-notebook-cell:/Users/margogusarova/VScode/Static/Static_lab_1/Lab_4/lab_4_example_lin_regression.ipynb#W5sZmlsZQ%3D%3D?line=2'>3</a>\u001b[0m \u001b[39mfor\u001b[39;00m c, rows \u001b[39min\u001b[39;00m iris_set\u001b[39m.\u001b[39mgroupby(\u001b[39m'\u001b[39m\u001b[39mspecies\u001b[39m\u001b[39m'\u001b[39m):\n\u001b[0;32m----> <a href='vscode-notebook-cell:/Users/margogusarova/VScode/Static/Static_lab_1/Lab_4/lab_4_example_lin_regression.ipynb#W5sZmlsZQ%3D%3D?line=3'>4</a>\u001b[0m     class_feature_means[c] \u001b[39m=\u001b[39m rows\u001b[39m.\u001b[39;49mmean()\n\u001b[1;32m      <a href='vscode-notebook-cell:/Users/margogusarova/VScode/Static/Static_lab_1/Lab_4/lab_4_example_lin_regression.ipynb#W5sZmlsZQ%3D%3D?line=4'>5</a>\u001b[0m     \u001b[39mprint\u001b[39m(c)\n\u001b[1;32m      <a href='vscode-notebook-cell:/Users/margogusarova/VScode/Static/Static_lab_1/Lab_4/lab_4_example_lin_regression.ipynb#W5sZmlsZQ%3D%3D?line=5'>6</a>\u001b[0m class_feature_means  \n",
      "File \u001b[0;32m~/Library/Python/3.9/lib/python/site-packages/pandas/core/frame.py:11335\u001b[0m, in \u001b[0;36mDataFrame.mean\u001b[0;34m(self, axis, skipna, numeric_only, **kwargs)\u001b[0m\n\u001b[1;32m  11327\u001b[0m \u001b[39m@doc\u001b[39m(make_doc(\u001b[39m\"\u001b[39m\u001b[39mmean\u001b[39m\u001b[39m\"\u001b[39m, ndim\u001b[39m=\u001b[39m\u001b[39m2\u001b[39m))\n\u001b[1;32m  11328\u001b[0m \u001b[39mdef\u001b[39;00m \u001b[39mmean\u001b[39m(\n\u001b[1;32m  11329\u001b[0m     \u001b[39mself\u001b[39m,\n\u001b[0;32m   (...)\u001b[0m\n\u001b[1;32m  11333\u001b[0m     \u001b[39m*\u001b[39m\u001b[39m*\u001b[39mkwargs,\n\u001b[1;32m  11334\u001b[0m ):\n\u001b[0;32m> 11335\u001b[0m     result \u001b[39m=\u001b[39m \u001b[39msuper\u001b[39;49m()\u001b[39m.\u001b[39;49mmean(axis, skipna, numeric_only, \u001b[39m*\u001b[39;49m\u001b[39m*\u001b[39;49mkwargs)\n\u001b[1;32m  11336\u001b[0m     \u001b[39mif\u001b[39;00m \u001b[39misinstance\u001b[39m(result, Series):\n\u001b[1;32m  11337\u001b[0m         result \u001b[39m=\u001b[39m result\u001b[39m.\u001b[39m__finalize__(\u001b[39mself\u001b[39m, method\u001b[39m=\u001b[39m\u001b[39m\"\u001b[39m\u001b[39mmean\u001b[39m\u001b[39m\"\u001b[39m)\n",
      "File \u001b[0;32m~/Library/Python/3.9/lib/python/site-packages/pandas/core/generic.py:11984\u001b[0m, in \u001b[0;36mNDFrame.mean\u001b[0;34m(self, axis, skipna, numeric_only, **kwargs)\u001b[0m\n\u001b[1;32m  11977\u001b[0m \u001b[39mdef\u001b[39;00m \u001b[39mmean\u001b[39m(\n\u001b[1;32m  11978\u001b[0m     \u001b[39mself\u001b[39m,\n\u001b[1;32m  11979\u001b[0m     axis: Axis \u001b[39m|\u001b[39m \u001b[39mNone\u001b[39;00m \u001b[39m=\u001b[39m \u001b[39m0\u001b[39m,\n\u001b[0;32m   (...)\u001b[0m\n\u001b[1;32m  11982\u001b[0m     \u001b[39m*\u001b[39m\u001b[39m*\u001b[39mkwargs,\n\u001b[1;32m  11983\u001b[0m ) \u001b[39m-\u001b[39m\u001b[39m>\u001b[39m Series \u001b[39m|\u001b[39m \u001b[39mfloat\u001b[39m:\n\u001b[0;32m> 11984\u001b[0m     \u001b[39mreturn\u001b[39;00m \u001b[39mself\u001b[39;49m\u001b[39m.\u001b[39;49m_stat_function(\n\u001b[1;32m  11985\u001b[0m         \u001b[39m\"\u001b[39;49m\u001b[39mmean\u001b[39;49m\u001b[39m\"\u001b[39;49m, nanops\u001b[39m.\u001b[39;49mnanmean, axis, skipna, numeric_only, \u001b[39m*\u001b[39;49m\u001b[39m*\u001b[39;49mkwargs\n\u001b[1;32m  11986\u001b[0m     )\n",
      "File \u001b[0;32m~/Library/Python/3.9/lib/python/site-packages/pandas/core/generic.py:11941\u001b[0m, in \u001b[0;36mNDFrame._stat_function\u001b[0;34m(self, name, func, axis, skipna, numeric_only, **kwargs)\u001b[0m\n\u001b[1;32m  11937\u001b[0m nv\u001b[39m.\u001b[39mvalidate_func(name, (), kwargs)\n\u001b[1;32m  11939\u001b[0m validate_bool_kwarg(skipna, \u001b[39m\"\u001b[39m\u001b[39mskipna\u001b[39m\u001b[39m\"\u001b[39m, none_allowed\u001b[39m=\u001b[39m\u001b[39mFalse\u001b[39;00m)\n\u001b[0;32m> 11941\u001b[0m \u001b[39mreturn\u001b[39;00m \u001b[39mself\u001b[39;49m\u001b[39m.\u001b[39;49m_reduce(\n\u001b[1;32m  11942\u001b[0m     func, name\u001b[39m=\u001b[39;49mname, axis\u001b[39m=\u001b[39;49maxis, skipna\u001b[39m=\u001b[39;49mskipna, numeric_only\u001b[39m=\u001b[39;49mnumeric_only\n\u001b[1;32m  11943\u001b[0m )\n",
      "File \u001b[0;32m~/Library/Python/3.9/lib/python/site-packages/pandas/core/frame.py:11204\u001b[0m, in \u001b[0;36mDataFrame._reduce\u001b[0;34m(self, op, name, axis, skipna, numeric_only, filter_type, **kwds)\u001b[0m\n\u001b[1;32m  11200\u001b[0m     df \u001b[39m=\u001b[39m df\u001b[39m.\u001b[39mT\n\u001b[1;32m  11202\u001b[0m \u001b[39m# After possibly _get_data and transposing, we are now in the\u001b[39;00m\n\u001b[1;32m  11203\u001b[0m \u001b[39m#  simple case where we can use BlockManager.reduce\u001b[39;00m\n\u001b[0;32m> 11204\u001b[0m res \u001b[39m=\u001b[39m df\u001b[39m.\u001b[39;49m_mgr\u001b[39m.\u001b[39;49mreduce(blk_func)\n\u001b[1;32m  11205\u001b[0m out \u001b[39m=\u001b[39m df\u001b[39m.\u001b[39m_constructor_from_mgr(res, axes\u001b[39m=\u001b[39mres\u001b[39m.\u001b[39maxes)\u001b[39m.\u001b[39miloc[\u001b[39m0\u001b[39m]\n\u001b[1;32m  11206\u001b[0m \u001b[39mif\u001b[39;00m out_dtype \u001b[39mis\u001b[39;00m \u001b[39mnot\u001b[39;00m \u001b[39mNone\u001b[39;00m \u001b[39mand\u001b[39;00m out\u001b[39m.\u001b[39mdtype \u001b[39m!=\u001b[39m \u001b[39m\"\u001b[39m\u001b[39mboolean\u001b[39m\u001b[39m\"\u001b[39m:\n",
      "File \u001b[0;32m~/Library/Python/3.9/lib/python/site-packages/pandas/core/internals/managers.py:1459\u001b[0m, in \u001b[0;36mBlockManager.reduce\u001b[0;34m(self, func)\u001b[0m\n\u001b[1;32m   1457\u001b[0m res_blocks: \u001b[39mlist\u001b[39m[Block] \u001b[39m=\u001b[39m []\n\u001b[1;32m   1458\u001b[0m \u001b[39mfor\u001b[39;00m blk \u001b[39min\u001b[39;00m \u001b[39mself\u001b[39m\u001b[39m.\u001b[39mblocks:\n\u001b[0;32m-> 1459\u001b[0m     nbs \u001b[39m=\u001b[39m blk\u001b[39m.\u001b[39;49mreduce(func)\n\u001b[1;32m   1460\u001b[0m     res_blocks\u001b[39m.\u001b[39mextend(nbs)\n\u001b[1;32m   1462\u001b[0m index \u001b[39m=\u001b[39m Index([\u001b[39mNone\u001b[39;00m])  \u001b[39m# placeholder\u001b[39;00m\n",
      "File \u001b[0;32m~/Library/Python/3.9/lib/python/site-packages/pandas/core/internals/blocks.py:377\u001b[0m, in \u001b[0;36mBlock.reduce\u001b[0;34m(self, func)\u001b[0m\n\u001b[1;32m    371\u001b[0m \u001b[39m@final\u001b[39m\n\u001b[1;32m    372\u001b[0m \u001b[39mdef\u001b[39;00m \u001b[39mreduce\u001b[39m(\u001b[39mself\u001b[39m, func) \u001b[39m-\u001b[39m\u001b[39m>\u001b[39m \u001b[39mlist\u001b[39m[Block]:\n\u001b[1;32m    373\u001b[0m     \u001b[39m# We will apply the function and reshape the result into a single-row\u001b[39;00m\n\u001b[1;32m    374\u001b[0m     \u001b[39m#  Block with the same mgr_locs; squeezing will be done at a higher level\u001b[39;00m\n\u001b[1;32m    375\u001b[0m     \u001b[39massert\u001b[39;00m \u001b[39mself\u001b[39m\u001b[39m.\u001b[39mndim \u001b[39m==\u001b[39m \u001b[39m2\u001b[39m\n\u001b[0;32m--> 377\u001b[0m     result \u001b[39m=\u001b[39m func(\u001b[39mself\u001b[39;49m\u001b[39m.\u001b[39;49mvalues)\n\u001b[1;32m    379\u001b[0m     \u001b[39mif\u001b[39;00m \u001b[39mself\u001b[39m\u001b[39m.\u001b[39mvalues\u001b[39m.\u001b[39mndim \u001b[39m==\u001b[39m \u001b[39m1\u001b[39m:\n\u001b[1;32m    380\u001b[0m         res_values \u001b[39m=\u001b[39m result\n",
      "File \u001b[0;32m~/Library/Python/3.9/lib/python/site-packages/pandas/core/frame.py:11136\u001b[0m, in \u001b[0;36mDataFrame._reduce.<locals>.blk_func\u001b[0;34m(values, axis)\u001b[0m\n\u001b[1;32m  11134\u001b[0m         \u001b[39mreturn\u001b[39;00m np\u001b[39m.\u001b[39marray([result])\n\u001b[1;32m  11135\u001b[0m \u001b[39melse\u001b[39;00m:\n\u001b[0;32m> 11136\u001b[0m     \u001b[39mreturn\u001b[39;00m op(values, axis\u001b[39m=\u001b[39;49maxis, skipna\u001b[39m=\u001b[39;49mskipna, \u001b[39m*\u001b[39;49m\u001b[39m*\u001b[39;49mkwds)\n",
      "File \u001b[0;32m~/Library/Python/3.9/lib/python/site-packages/pandas/core/nanops.py:147\u001b[0m, in \u001b[0;36mbottleneck_switch.__call__.<locals>.f\u001b[0;34m(values, axis, skipna, **kwds)\u001b[0m\n\u001b[1;32m    145\u001b[0m         result \u001b[39m=\u001b[39m alt(values, axis\u001b[39m=\u001b[39maxis, skipna\u001b[39m=\u001b[39mskipna, \u001b[39m*\u001b[39m\u001b[39m*\u001b[39mkwds)\n\u001b[1;32m    146\u001b[0m \u001b[39melse\u001b[39;00m:\n\u001b[0;32m--> 147\u001b[0m     result \u001b[39m=\u001b[39m alt(values, axis\u001b[39m=\u001b[39;49maxis, skipna\u001b[39m=\u001b[39;49mskipna, \u001b[39m*\u001b[39;49m\u001b[39m*\u001b[39;49mkwds)\n\u001b[1;32m    149\u001b[0m \u001b[39mreturn\u001b[39;00m result\n",
      "File \u001b[0;32m~/Library/Python/3.9/lib/python/site-packages/pandas/core/nanops.py:404\u001b[0m, in \u001b[0;36m_datetimelike_compat.<locals>.new_func\u001b[0;34m(values, axis, skipna, mask, **kwargs)\u001b[0m\n\u001b[1;32m    401\u001b[0m \u001b[39mif\u001b[39;00m datetimelike \u001b[39mand\u001b[39;00m mask \u001b[39mis\u001b[39;00m \u001b[39mNone\u001b[39;00m:\n\u001b[1;32m    402\u001b[0m     mask \u001b[39m=\u001b[39m isna(values)\n\u001b[0;32m--> 404\u001b[0m result \u001b[39m=\u001b[39m func(values, axis\u001b[39m=\u001b[39;49maxis, skipna\u001b[39m=\u001b[39;49mskipna, mask\u001b[39m=\u001b[39;49mmask, \u001b[39m*\u001b[39;49m\u001b[39m*\u001b[39;49mkwargs)\n\u001b[1;32m    406\u001b[0m \u001b[39mif\u001b[39;00m datetimelike:\n\u001b[1;32m    407\u001b[0m     result \u001b[39m=\u001b[39m _wrap_results(result, orig_values\u001b[39m.\u001b[39mdtype, fill_value\u001b[39m=\u001b[39miNaT)\n",
      "File \u001b[0;32m~/Library/Python/3.9/lib/python/site-packages/pandas/core/nanops.py:720\u001b[0m, in \u001b[0;36mnanmean\u001b[0;34m(values, axis, skipna, mask)\u001b[0m\n\u001b[1;32m    718\u001b[0m count \u001b[39m=\u001b[39m _get_counts(values\u001b[39m.\u001b[39mshape, mask, axis, dtype\u001b[39m=\u001b[39mdtype_count)\n\u001b[1;32m    719\u001b[0m the_sum \u001b[39m=\u001b[39m values\u001b[39m.\u001b[39msum(axis, dtype\u001b[39m=\u001b[39mdtype_sum)\n\u001b[0;32m--> 720\u001b[0m the_sum \u001b[39m=\u001b[39m _ensure_numeric(the_sum)\n\u001b[1;32m    722\u001b[0m \u001b[39mif\u001b[39;00m axis \u001b[39mis\u001b[39;00m \u001b[39mnot\u001b[39;00m \u001b[39mNone\u001b[39;00m \u001b[39mand\u001b[39;00m \u001b[39mgetattr\u001b[39m(the_sum, \u001b[39m\"\u001b[39m\u001b[39mndim\u001b[39m\u001b[39m\"\u001b[39m, \u001b[39mFalse\u001b[39;00m):\n\u001b[1;32m    723\u001b[0m     count \u001b[39m=\u001b[39m cast(np\u001b[39m.\u001b[39mndarray, count)\n",
      "File \u001b[0;32m~/Library/Python/3.9/lib/python/site-packages/pandas/core/nanops.py:1678\u001b[0m, in \u001b[0;36m_ensure_numeric\u001b[0;34m(x)\u001b[0m\n\u001b[1;32m   1675\u001b[0m inferred \u001b[39m=\u001b[39m lib\u001b[39m.\u001b[39minfer_dtype(x)\n\u001b[1;32m   1676\u001b[0m \u001b[39mif\u001b[39;00m inferred \u001b[39min\u001b[39;00m [\u001b[39m\"\u001b[39m\u001b[39mstring\u001b[39m\u001b[39m\"\u001b[39m, \u001b[39m\"\u001b[39m\u001b[39mmixed\u001b[39m\u001b[39m\"\u001b[39m]:\n\u001b[1;32m   1677\u001b[0m     \u001b[39m# GH#44008, GH#36703 avoid casting e.g. strings to numeric\u001b[39;00m\n\u001b[0;32m-> 1678\u001b[0m     \u001b[39mraise\u001b[39;00m \u001b[39mTypeError\u001b[39;00m(\u001b[39mf\u001b[39m\u001b[39m\"\u001b[39m\u001b[39mCould not convert \u001b[39m\u001b[39m{\u001b[39;00mx\u001b[39m}\u001b[39;00m\u001b[39m to numeric\u001b[39m\u001b[39m\"\u001b[39m)\n\u001b[1;32m   1679\u001b[0m \u001b[39mtry\u001b[39;00m:\n\u001b[1;32m   1680\u001b[0m     x \u001b[39m=\u001b[39m x\u001b[39m.\u001b[39mastype(np\u001b[39m.\u001b[39mcomplex128)\n",
      "\u001b[0;31mTypeError\u001b[0m: Could not convert ['setosasetosasetosasetosasetosasetosasetosasetosasetosasetosasetosasetosasetosasetosasetosasetosasetosasetosasetosasetosasetosasetosasetosasetosasetosasetosasetosasetosasetosasetosasetosasetosasetosasetosasetosasetosasetosasetosasetosasetosasetosasetosasetosasetosasetosasetosasetosasetosasetosasetosa'] to numeric"
     ]
    }
   ],
   "source": [
    "####  вычисляем средние значения длины и ширины чашелистников и лепестков для каждого сорта ирисов\n",
    "class_feature_means = pd.DataFrame()\n",
    "for c, rows in iris_set.groupby('species'):\n",
    "    class_feature_means[c] = rows.mean()\n",
    "    print(c)\n",
    "class_feature_means  "
   ]
  },
  {
   "cell_type": "code",
   "execution_count": null,
   "id": "e11f4c5d",
   "metadata": {},
   "outputs": [],
   "source": [
    "### визуализация зависимости длины лепестка от длины чашелистника каждого сорта ирисов"
   ]
  },
  {
   "cell_type": "code",
   "execution_count": null,
   "id": "0a65d442",
   "metadata": {},
   "outputs": [
    {
     "ename": "NameError",
     "evalue": "name 'iris_set' is not defined",
     "output_type": "error",
     "traceback": [
      "\u001b[0;31m---------------------------------------------------------------------------\u001b[0m",
      "\u001b[0;31mNameError\u001b[0m                                 Traceback (most recent call last)",
      "\u001b[1;32m/Users/margogusarova/VScode/Static/Static_lab_1/Lab_4/lab_4_example_lin_regression.ipynb Ячейка 8\u001b[0m line \u001b[0;36m1\n\u001b[1;32m      <a href='vscode-notebook-cell:/Users/margogusarova/VScode/Static/Static_lab_1/Lab_4/lab_4_example_lin_regression.ipynb#X10sZmlsZQ%3D%3D?line=7'>8</a>\u001b[0m axes\u001b[39m.\u001b[39mset_xlabel(x_lable)             \n\u001b[1;32m      <a href='vscode-notebook-cell:/Users/margogusarova/VScode/Static/Static_lab_1/Lab_4/lab_4_example_lin_regression.ipynb#X10sZmlsZQ%3D%3D?line=8'>9</a>\u001b[0m axes\u001b[39m.\u001b[39mset_ylabel(y_lable)  \n\u001b[0;32m---> <a href='vscode-notebook-cell:/Users/margogusarova/VScode/Static/Static_lab_1/Lab_4/lab_4_example_lin_regression.ipynb#X10sZmlsZQ%3D%3D?line=9'>10</a>\u001b[0m \u001b[39mfor\u001b[39;00m c, rows \u001b[39min\u001b[39;00m iris_set\u001b[39m.\u001b[39mgroupby(\u001b[39m'\u001b[39m\u001b[39mspecies\u001b[39m\u001b[39m'\u001b[39m):\n\u001b[1;32m     <a href='vscode-notebook-cell:/Users/margogusarova/VScode/Static/Static_lab_1/Lab_4/lab_4_example_lin_regression.ipynb#X10sZmlsZQ%3D%3D?line=10'>11</a>\u001b[0m     plt\u001b[39m.\u001b[39mscatter(rows[x_lable], rows[y_lable])\n\u001b[1;32m     <a href='vscode-notebook-cell:/Users/margogusarova/VScode/Static/Static_lab_1/Lab_4/lab_4_example_lin_regression.ipynb#X10sZmlsZQ%3D%3D?line=11'>12</a>\u001b[0m     legend\u001b[39m.\u001b[39mappend(\u001b[39m\"\u001b[39m\u001b[39mspecies=\u001b[39m\u001b[39m%s\u001b[39;00m\u001b[39m\"\u001b[39m \u001b[39m%\u001b[39m c)\n",
      "\u001b[0;31mNameError\u001b[0m: name 'iris_set' is not defined"
     ]
    },
    {
     "data": {
      "image/png": "[encoded data removed]",
      "text/plain": [
       "<Figure size 640x480 with 1 Axes>"
      ]
     },
     "metadata": {},
     "output_type": "display_data"
    }
   ],
   "source": [
    "axes = plt.axes()\n",
    "axes.set_xlim([4, 6])         \n",
    "axes.set_ylim([0, 2])          \n",
    "legend = []\n",
    "plt.title('Линейная регрессия - Ирисы Фишера')\n",
    "x_lable='sepal_length'\n",
    "y_lable='petal_length'\n",
    "axes.set_xlabel(x_lable)             \n",
    "axes.set_ylabel(y_lable)  \n",
    "for c, rows in iris_set.groupby('species'):\n",
    "    plt.scatter(rows[x_lable], rows[y_lable])\n",
    "    legend.append(\"species=%s\" % c)\n",
    "plt.legend(legend, loc=\"upper left\")\n",
    "plt.grid()\n",
    "plt.show()"
   ]
  },
  {
   "cell_type": "code",
   "execution_count": null,
   "id": "016e60c7",
   "metadata": {},
   "outputs": [],
   "source": [
    "#### подготовка данных для построения модели линейной регрессии\n",
    "x_lable='sepal_length'\n",
    "y_lable='petal_length'\n",
    "xxx=iris_set[x_lable].values\n",
    "### матрица x размерности (n * 1) содержит n наблюдаемых значений объясняющей переменной (фактора) x \n",
    "x= xxx.reshape((-1, 1))\n",
    "### вектор-столбец y содержит n наблюдаемых значений объясняемой переменной (результата) y \n",
    "y= iris_set[y_lable].values"
   ]
  },
  {
   "cell_type": "code",
   "execution_count": null,
   "id": "539b2283",
   "metadata": {},
   "outputs": [
    {
     "data": {
      "text/plain": [
       "LinearRegression()"
      ]
     },
     "execution_count": 79,
     "metadata": {},
     "output_type": "execute_result"
    }
   ],
   "source": [
    "#### для построение модели линейной регрессии\n",
    "### объявляем, что model - объект класса LinearRegression\n",
    "model = LinearRegression()\n",
    "### вызываем метод fit для того чтобы методом наименьших квадратов обеспечить наилучшую подгонку линии регрессии \n",
    "### y^ = b₀^ +b₁^ * x к точкам поля наблюдений\n",
    "model.fit(x, y)"
   ]
  },
  {
   "cell_type": "code",
   "execution_count": null,
   "id": "9721938c",
   "metadata": {},
   "outputs": [],
   "source": [
    "#### выводим оценки b₁^ и b₀^ параметров модели b₁ и b₀, найденные методом наименьших квадратов"
   ]
  },
  {
   "cell_type": "code",
   "execution_count": null,
   "id": "6a726318",
   "metadata": {},
   "outputs": [
    {
     "name": "stdout",
     "output_type": "stream",
     "text": [
      "intercept: -7.101443369602455\n",
      "slope: [1.85843298]\n"
     ]
    }
   ],
   "source": [
    "b_0_hat=model.intercept_\n",
    "print('intercept:', b_0_hat) # b₀^\n",
    "b_1_hat=model.coef_\n",
    "print('slope:', b_1_hat) # b₁^"
   ]
  },
  {
   "cell_type": "code",
   "execution_count": null,
   "id": "0cbe7d36",
   "metadata": {},
   "outputs": [
    {
     "name": "stdout",
     "output_type": "stream",
     "text": [
      "coefficient of determination: 0.759954645772515\n"
     ]
    }
   ],
   "source": [
    "#### выводим коэффициень детерминации модели, характеризуюший ее объясняющую способность.\n",
    "print('coefficient of determination:', model.score(x, y))"
   ]
  },
  {
   "cell_type": "code",
   "execution_count": null,
   "id": "cb436e1e",
   "metadata": {},
   "outputs": [
    {
     "name": "stdout",
     "output_type": "stream",
     "text": [
      "predicted response:\n",
      "[2.37656482 2.00487822 1.63319163 1.44734833 2.19072152 2.93409471\n",
      " 1.44734833 2.19072152 1.07566173 2.00487822 2.93409471 1.81903493\n",
      " 1.81903493 0.88981844 3.6774679  3.49162461 2.93409471 2.37656482\n",
      " 3.49162461 2.37656482 2.93409471 2.37656482 1.44734833 2.37656482\n",
      " 1.81903493 2.19072152 2.19072152 2.56240812 2.56240812 1.63319163\n",
      " 1.81903493 2.93409471 2.56240812 3.11993801 2.00487822 2.19072152\n",
      " 3.11993801 2.00487822 1.07566173 2.37656482 2.19072152 1.26150503\n",
      " 1.07566173 2.19072152 2.37656482 1.81903493 2.37656482 1.44734833\n",
      " 2.74825142 2.19072152 5.90758748 4.79252769 5.72174418 3.11993801\n",
      " 4.97837099 3.49162461 4.60668439 2.00487822 5.16421429 2.56240812\n",
      " 2.19072152 3.8633112  4.0491545  4.2349978  3.30578131 5.35005758\n",
      " 3.30578131 3.6774679  4.4208411  3.30578131 3.8633112  4.2349978\n",
      " 4.60668439 4.2349978  4.79252769 5.16421429 5.53590088 5.35005758\n",
      " 4.0491545  3.49162461 3.11993801 3.11993801 3.6774679  4.0491545\n",
      " 2.93409471 4.0491545  5.35005758 4.60668439 3.30578131 3.11993801\n",
      " 3.11993801 4.2349978  3.6774679  2.19072152 3.30578131 3.49162461\n",
      " 3.49162461 4.4208411  2.37656482 3.49162461 4.60668439 3.6774679\n",
      " 6.09343078 4.60668439 4.97837099 7.02264727 2.00487822 6.46511737\n",
      " 5.35005758 6.27927407 4.97837099 4.79252769 5.53590088 3.49162461\n",
      " 3.6774679  4.79252769 4.97837099 7.20849056 7.20849056 4.0491545\n",
      " 5.72174418 3.30578131 7.20849056 4.60668439 5.35005758 6.27927407\n",
      " 4.4208411  4.2349978  4.79252769 6.27927407 6.65096067 7.58017716\n",
      " 4.79252769 4.60668439 4.2349978  7.20849056 4.60668439 4.79252769\n",
      " 4.0491545  5.72174418 5.35005758 5.72174418 3.6774679  5.53590088\n",
      " 5.35005758 5.35005758 4.60668439 4.97837099 4.4208411  3.8633112 ]\n"
     ]
    }
   ],
   "source": [
    "#### предсказание значений зависимой переменной  \"вручную\",  с помощью модели y^ = b₀^ +b₁^ * x\n",
    "y_hat = b_0_hat + b_1_hat * x\n",
    "y_hat =y_hat.reshape(-1)\n",
    "print(f\"predicted response:\\n{y_hat}\")"
   ]
  },
  {
   "cell_type": "code",
   "execution_count": null,
   "id": "0bf452bd",
   "metadata": {},
   "outputs": [
    {
     "name": "stdout",
     "output_type": "stream",
     "text": [
      "predicted response:\n",
      "[2.37656482 2.00487822 1.63319163 1.44734833 2.19072152 2.93409471\n",
      " 1.44734833 2.19072152 1.07566173 2.00487822 2.93409471 1.81903493\n",
      " 1.81903493 0.88981844 3.6774679  3.49162461 2.93409471 2.37656482\n",
      " 3.49162461 2.37656482 2.93409471 2.37656482 1.44734833 2.37656482\n",
      " 1.81903493 2.19072152 2.19072152 2.56240812 2.56240812 1.63319163\n",
      " 1.81903493 2.93409471 2.56240812 3.11993801 2.00487822 2.19072152\n",
      " 3.11993801 2.00487822 1.07566173 2.37656482 2.19072152 1.26150503\n",
      " 1.07566173 2.19072152 2.37656482 1.81903493 2.37656482 1.44734833\n",
      " 2.74825142 2.19072152 5.90758748 4.79252769 5.72174418 3.11993801\n",
      " 4.97837099 3.49162461 4.60668439 2.00487822 5.16421429 2.56240812\n",
      " 2.19072152 3.8633112  4.0491545  4.2349978  3.30578131 5.35005758\n",
      " 3.30578131 3.6774679  4.4208411  3.30578131 3.8633112  4.2349978\n",
      " 4.60668439 4.2349978  4.79252769 5.16421429 5.53590088 5.35005758\n",
      " 4.0491545  3.49162461 3.11993801 3.11993801 3.6774679  4.0491545\n",
      " 2.93409471 4.0491545  5.35005758 4.60668439 3.30578131 3.11993801\n",
      " 3.11993801 4.2349978  3.6774679  2.19072152 3.30578131 3.49162461\n",
      " 3.49162461 4.4208411  2.37656482 3.49162461 4.60668439 3.6774679\n",
      " 6.09343078 4.60668439 4.97837099 7.02264727 2.00487822 6.46511737\n",
      " 5.35005758 6.27927407 4.97837099 4.79252769 5.53590088 3.49162461\n",
      " 3.6774679  4.79252769 4.97837099 7.20849056 7.20849056 4.0491545\n",
      " 5.72174418 3.30578131 7.20849056 4.60668439 5.35005758 6.27927407\n",
      " 4.4208411  4.2349978  4.79252769 6.27927407 6.65096067 7.58017716\n",
      " 4.79252769 4.60668439 4.2349978  7.20849056 4.60668439 4.79252769\n",
      " 4.0491545  5.72174418 5.35005758 5.72174418 3.6774679  5.53590088\n",
      " 5.35005758 5.35005758 4.60668439 4.97837099 4.4208411  3.8633112 ]\n"
     ]
    }
   ],
   "source": [
    "#### предсказание значений зависимой переменной  с помощью метода  predict\n",
    "y_predict = model.predict(x)\n",
    "print(f\"predicted response:\\n{y_predict}\")"
   ]
  },
  {
   "cell_type": "code",
   "execution_count": null,
   "id": "f558c490",
   "metadata": {},
   "outputs": [
    {
     "name": "stdout",
     "output_type": "stream",
     "text": [
      "[ True  True  True  True  True  True  True  True  True  True  True  True\n",
      "  True  True  True  True  True  True  True  True  True  True  True  True\n",
      "  True  True  True  True  True  True  True  True  True  True  True  True\n",
      "  True  True  True  True  True  True  True  True  True  True  True  True\n",
      "  True  True  True  True  True  True  True  True  True  True  True  True\n",
      "  True  True  True  True  True  True  True  True  True  True  True  True\n",
      "  True  True  True  True  True  True  True  True  True  True  True  True\n",
      "  True  True  True  True  True  True  True  True  True  True  True  True\n",
      "  True  True  True  True  True  True  True  True  True  True  True  True\n",
      "  True  True  True  True  True  True  True  True  True  True  True  True\n",
      "  True  True  True  True  True  True  True  True  True  True  True  True\n",
      "  True  True  True  True  True  True  True  True  True  True  True  True\n",
      "  True  True  True  True  True  True]\n"
     ]
    }
   ],
   "source": [
    "#### проверим, совпадают ли результаты предсказания, найденные \"вручную\", с результатами, получпенными методом predict\n",
    "print(y_hat==y_predict)"
   ]
  },
  {
   "cell_type": "code",
   "execution_count": null,
   "id": "1651acd5",
   "metadata": {},
   "outputs": [
    {
     "data": {
      "text/plain": [
       "array([7.76602046, 8.69523695, 9.62445343])"
      ]
     },
     "execution_count": 86,
     "metadata": {},
     "output_type": "execute_result"
    }
   ],
   "source": [
    "#### зададим массив x_new, содержащий значений фактора x, \n",
    "#### для которых будут сделаны предсказания с помощью модели y^ = b₀^ +b₁^ * x\n",
    "x_new= np.array([8.0,8.5,9.0])\n",
    "x_new=x_new.reshape((-1,1))     \n",
    "y_new = model.predict(x_new)\n",
    "y_new"
   ]
  },
  {
   "cell_type": "code",
   "execution_count": null,
   "id": "b7f9ec80",
   "metadata": {},
   "outputs": [
    {
     "data": {
      "image/png": "[encoded data removed]",
      "text/plain": [
       "<Figure size 432x288 with 1 Axes>"
      ]
     },
     "metadata": {
      "needs_background": "light"
     },
     "output_type": "display_data"
    }
   ],
   "source": [
    "#### нарисуем эмпирическую линию регрессии на поле наблюдений \n",
    "plt.scatter(x,y)\n",
    "plt.plot(x, model.predict(x), color='red', linewidth=2);"
   ]
  },
  {
   "cell_type": "code",
   "execution_count": null,
   "id": "030727f2",
   "metadata": {},
   "outputs": [
    {
     "data": {
      "text/plain": [
       "-5.684341886080802e-14"
      ]
     },
     "execution_count": 88,
     "metadata": {},
     "output_type": "execute_result"
    }
   ],
   "source": [
    "errors=y-y_predict \n",
    "sum(errors)"
   ]
  },
  {
   "cell_type": "code",
   "execution_count": null,
   "id": "ec65b217",
   "metadata": {},
   "outputs": [],
   "source": [
    "###############  проверка остатков регрессии на нормальность..."
   ]
  },
  {
   "cell_type": "code",
   "execution_count": null,
   "id": "6b90ee83",
   "metadata": {},
   "outputs": [
    {
     "name": "stdout",
     "output_type": "stream",
     "text": [
      "ShapiroResult(statistic=0.994367778301239, pvalue=0.8309829831123352)\n"
     ]
    }
   ],
   "source": [
    "from scipy import stats\n",
    "rez=stats.shapiro(errors)\n",
    "print(rez)"
   ]
  },
  {
   "cell_type": "code",
   "execution_count": null,
   "id": "dad64b1b",
   "metadata": {},
   "outputs": [
    {
     "name": "stdout",
     "output_type": "stream",
     "text": [
      "Jarque_beraResult(statistic=0.3861038239409937, pvalue=0.8244391747661011)\n"
     ]
    }
   ],
   "source": [
    "rez=stats.jarque_bera(errors)\n",
    "print(rez)"
   ]
  },
  {
   "cell_type": "code",
   "execution_count": null,
   "id": "bcb0e082",
   "metadata": {},
   "outputs": [
    {
     "name": "stdout",
     "output_type": "stream",
     "text": [
      "NormaltestResult(statistic=0.2534063011020061, pvalue=0.880995156711368)\n"
     ]
    }
   ],
   "source": [
    "from scipy import stats\n",
    "rez=stats.normaltest(errors)\n",
    "print(rez)"
   ]
  },
  {
   "cell_type": "code",
   "execution_count": null,
   "id": "6cf37fd7",
   "metadata": {},
   "outputs": [
    {
     "data": {
      "text/plain": [
       "[<matplotlib.lines.Line2D at 0x277861c5f40>]"
      ]
     },
     "execution_count": 90,
     "metadata": {},
     "output_type": "execute_result"
    },
    {
     "data": {
      "image/png": "[encoded data removed]",
      "text/plain": [
       "<Figure size 432x288 with 1 Axes>"
      ]
     },
     "metadata": {
      "needs_background": "light"
     },
     "output_type": "display_data"
    }
   ],
   "source": [
    "plt.plot( x,errors,'ro')"
   ]
  },
  {
   "cell_type": "code",
   "execution_count": null,
   "id": "8a648ee4",
   "metadata": {},
   "outputs": [
    {
     "name": "stdout",
     "output_type": "stream",
     "text": [
      "ESS =  111.45915511981853\n"
     ]
    }
   ],
   "source": [
    "### вычисляем ESS = Errors Sum of Squares - сумму квадратов остатков (ошибок) регрессии\n",
    "ESS=sum(errors**2)\n",
    "print('ESS = ',ESS )"
   ]
  },
  {
   "cell_type": "code",
   "execution_count": null,
   "id": "4f81e329",
   "metadata": {},
   "outputs": [
    {
     "name": "stdout",
     "output_type": "stream",
     "text": [
      "RSS =  352.8662448801818\n"
     ]
    }
   ],
   "source": [
    "### вычисляем RSS = Regression Sum of Squares -  регрессионную сумму квадратов\n",
    "RSS=sum((y_predict-np.mean(y_predict)) **2)\n",
    "print('RSS = ',RSS )"
   ]
  },
  {
   "cell_type": "code",
   "execution_count": null,
   "id": "78fd79ef",
   "metadata": {},
   "outputs": [
    {
     "name": "stdout",
     "output_type": "stream",
     "text": [
      "TSS =  464.32540000000046\n"
     ]
    }
   ],
   "source": [
    "### вычисляем TSS = Total Sum of Squares -  полную сумму квадратов\n",
    "TSS=sum((y-np.mean(y)) **2)\n",
    "print('TSS = ',TSS )"
   ]
  },
  {
   "cell_type": "code",
   "execution_count": null,
   "id": "5cc80126",
   "metadata": {},
   "outputs": [
    {
     "name": "stdout",
     "output_type": "stream",
     "text": [
      "ESS + RSS =  464.32540000000034\n"
     ]
    }
   ],
   "source": [
    "print('ESS + RSS = ',ESS+RSS )"
   ]
  },
  {
   "cell_type": "code",
   "execution_count": null,
   "id": "9d412f42",
   "metadata": {},
   "outputs": [
    {
     "name": "stdout",
     "output_type": "stream",
     "text": [
      "R2 0.7599546457725155\n"
     ]
    }
   ],
   "source": [
    "R2=1-ESS/TSS\n",
    "print('R2',R2)"
   ]
  },
  {
   "cell_type": "code",
   "execution_count": null,
   "id": "493cb0de",
   "metadata": {},
   "outputs": [
    {
     "data": {
      "text/html": [
       "<div>\n",
       "<style scoped>\n",
       "    .dataframe tbody tr th:only-of-type {\n",
       "        vertical-align: middle;\n",
       "    }\n",
       "\n",
       "    .dataframe tbody tr th {\n",
       "        vertical-align: top;\n",
       "    }\n",
       "\n",
       "    .dataframe thead th {\n",
       "        text-align: right;\n",
       "    }\n",
       "</style>\n",
       "<table border=\"1\" class=\"dataframe\">\n",
       "  <thead>\n",
       "    <tr style=\"text-align: right;\">\n",
       "      <th></th>\n",
       "      <th>sepal_length</th>\n",
       "      <th>sepal_width</th>\n",
       "      <th>petal_length</th>\n",
       "      <th>petal_width</th>\n",
       "      <th>species</th>\n",
       "    </tr>\n",
       "  </thead>\n",
       "  <tbody>\n",
       "    <tr>\n",
       "      <th>50</th>\n",
       "      <td>7.0</td>\n",
       "      <td>3.2</td>\n",
       "      <td>4.7</td>\n",
       "      <td>1.4</td>\n",
       "      <td>versicolor</td>\n",
       "    </tr>\n",
       "    <tr>\n",
       "      <th>51</th>\n",
       "      <td>6.4</td>\n",
       "      <td>3.2</td>\n",
       "      <td>4.5</td>\n",
       "      <td>1.5</td>\n",
       "      <td>versicolor</td>\n",
       "    </tr>\n",
       "    <tr>\n",
       "      <th>52</th>\n",
       "      <td>6.9</td>\n",
       "      <td>3.1</td>\n",
       "      <td>4.9</td>\n",
       "      <td>1.5</td>\n",
       "      <td>versicolor</td>\n",
       "    </tr>\n",
       "    <tr>\n",
       "      <th>53</th>\n",
       "      <td>5.5</td>\n",
       "      <td>2.3</td>\n",
       "      <td>4.0</td>\n",
       "      <td>1.3</td>\n",
       "      <td>versicolor</td>\n",
       "    </tr>\n",
       "    <tr>\n",
       "      <th>54</th>\n",
       "      <td>6.5</td>\n",
       "      <td>2.8</td>\n",
       "      <td>4.6</td>\n",
       "      <td>1.5</td>\n",
       "      <td>versicolor</td>\n",
       "    </tr>\n",
       "    <tr>\n",
       "      <th>...</th>\n",
       "      <td>...</td>\n",
       "      <td>...</td>\n",
       "      <td>...</td>\n",
       "      <td>...</td>\n",
       "      <td>...</td>\n",
       "    </tr>\n",
       "    <tr>\n",
       "      <th>145</th>\n",
       "      <td>6.7</td>\n",
       "      <td>3.0</td>\n",
       "      <td>5.2</td>\n",
       "      <td>2.3</td>\n",
       "      <td>virginica</td>\n",
       "    </tr>\n",
       "    <tr>\n",
       "      <th>146</th>\n",
       "      <td>6.3</td>\n",
       "      <td>2.5</td>\n",
       "      <td>5.0</td>\n",
       "      <td>1.9</td>\n",
       "      <td>virginica</td>\n",
       "    </tr>\n",
       "    <tr>\n",
       "      <th>147</th>\n",
       "      <td>6.5</td>\n",
       "      <td>3.0</td>\n",
       "      <td>5.2</td>\n",
       "      <td>2.0</td>\n",
       "      <td>virginica</td>\n",
       "    </tr>\n",
       "    <tr>\n",
       "      <th>148</th>\n",
       "      <td>6.2</td>\n",
       "      <td>3.4</td>\n",
       "      <td>5.4</td>\n",
       "      <td>2.3</td>\n",
       "      <td>virginica</td>\n",
       "    </tr>\n",
       "    <tr>\n",
       "      <th>149</th>\n",
       "      <td>5.9</td>\n",
       "      <td>3.0</td>\n",
       "      <td>5.1</td>\n",
       "      <td>1.8</td>\n",
       "      <td>virginica</td>\n",
       "    </tr>\n",
       "  </tbody>\n",
       "</table>\n",
       "<p>100 rows × 5 columns</p>\n",
       "</div>"
      ],
      "text/plain": [
       "     sepal_length  sepal_width  petal_length  petal_width     species\n",
       "50            7.0          3.2           4.7          1.4  versicolor\n",
       "51            6.4          3.2           4.5          1.5  versicolor\n",
       "52            6.9          3.1           4.9          1.5  versicolor\n",
       "53            5.5          2.3           4.0          1.3  versicolor\n",
       "54            6.5          2.8           4.6          1.5  versicolor\n",
       "..            ...          ...           ...          ...         ...\n",
       "145           6.7          3.0           5.2          2.3   virginica\n",
       "146           6.3          2.5           5.0          1.9   virginica\n",
       "147           6.5          3.0           5.2          2.0   virginica\n",
       "148           6.2          3.4           5.4          2.3   virginica\n",
       "149           5.9          3.0           5.1          1.8   virginica\n",
       "\n",
       "[100 rows x 5 columns]"
      ]
     },
     "execution_count": 105,
     "metadata": {},
     "output_type": "execute_result"
    }
   ],
   "source": [
    "##### строим модель зависимости длины лепестка от длины чашелистника по выборке, не содержащей данные по ирису щетинистому\n",
    "##########################\n",
    "iris_set = iris_set[iris_set.species !='setosa']\n",
    "iris_set"
   ]
  },
  {
   "cell_type": "code",
   "execution_count": null,
   "id": "ec815366",
   "metadata": {},
   "outputs": [],
   "source": [
    "#### подготовка данных для построения модели линейной регрессии\n",
    "x_lable='sepal_length'\n",
    "y_lable='petal_length'\n",
    "xxx=iris_set[x_lable].values\n",
    "### матрица x размерности (n * 1) содержит n наблюдаемых значений объясняющей переменной (фактора) x \n",
    "x= xxx.reshape((-1, 1))\n",
    "### вектор-столбец y содержит n наблюдаемых значений объясняемой переменной (результата) y \n",
    "y= iris_set[y_lable].values"
   ]
  },
  {
   "cell_type": "code",
   "execution_count": null,
   "id": "38163a6e",
   "metadata": {},
   "outputs": [
    {
     "data": {
      "text/plain": [
       "LinearRegression()"
      ]
     },
     "execution_count": 107,
     "metadata": {},
     "output_type": "execute_result"
    }
   ],
   "source": [
    "  #### для построение модели линейной регрессии\n",
    "### объявляем, что model - объект класса LinearRegression\n",
    "model = LinearRegression()\n",
    "### вызываем метод fit для того чтобы методом наименьших квадратов обеспечить наилучшую подгонку линии регрессии \n",
    "### y^ = b₀^ +b₁^ * x к точкам поля наблюдений\n",
    "model.fit(x, y)"
   ]
  },
  {
   "cell_type": "code",
   "execution_count": null,
   "id": "07caa712",
   "metadata": {},
   "outputs": [
    {
     "name": "stdout",
     "output_type": "stream",
     "text": [
      "intercept: -1.5557132215672373\n",
      "slope: [1.03189288]\n"
     ]
    }
   ],
   "source": [
    "b_0_hat=model.intercept_\n",
    "print('intercept:', b_0_hat) # b₀^\n",
    "b_1_hat=model.coef_\n",
    "print('slope:', b_1_hat) # b₁^"
   ]
  },
  {
   "cell_type": "code",
   "execution_count": null,
   "id": "d9cca228",
   "metadata": {},
   "outputs": [
    {
     "name": "stdout",
     "output_type": "stream",
     "text": [
      "coefficient of determination: 0.6863768933240111\n"
     ]
    }
   ],
   "source": [
    "#### выводим коэффициент детерминации модели, характеризуюший ее объясняющую способность.\n",
    "R2=model.score(x, y)\n",
    "print('coefficient of determination:', R2)"
   ]
  },
  {
   "cell_type": "code",
   "execution_count": null,
   "id": "f1f13105",
   "metadata": {},
   "outputs": [
    {
     "data": {
      "image/png": "[encoded data removed]",
      "text/plain": [
       "<Figure size 432x288 with 1 Axes>"
      ]
     },
     "metadata": {
      "needs_background": "light"
     },
     "output_type": "display_data"
    }
   ],
   "source": [
    "#### нарисуем эмпирическую линию регрессии на поле наблюдений \n",
    "plt.scatter(x,y)\n",
    "plt.plot(x, model.predict(x), color='red', linewidth=2);"
   ]
  },
  {
   "cell_type": "code",
   "execution_count": null,
   "id": "d5258eeb",
   "metadata": {},
   "outputs": [],
   "source": [
    "#### строим двуфакторную модель регрессии зависимости длины лепестка от длины и ширины чашелистника\n",
    "iris_set = sns.load_dataset(\"iris\")\n",
    "x_lable=['sepal_length', 'sepal_width']\n",
    "X2= iris_set[x_lable].values\n",
    "y= iris_set['petal_length'].values\n",
    "### print(X2)"
   ]
  },
  {
   "cell_type": "code",
   "execution_count": null,
   "id": "371bd9f0",
   "metadata": {},
   "outputs": [
    {
     "name": "stdout",
     "output_type": "stream",
     "text": [
      "intercept: -2.524761511833406\n",
      "slope: [ 1.77559255 -1.33862329]\n",
      "coefficient of determination: 0.8676860089345193\n"
     ]
    }
   ],
   "source": [
    "model = LinearRegression()\n",
    "### вызываем метод fit для того чтобы методом наименьших квадратов обеспечить наилучшую подгонку модели  регрессии \n",
    "### y^ = b₀^ +b₁^ * x1 + b2^ * x2 к точкам поля наблюдений\n",
    "model.fit(X2, y)\n",
    "b_0_hat=model.intercept_\n",
    "print('intercept:', b_0_hat) # b₀^\n",
    "b_12_hat=model.coef_\n",
    "print('slope:', b_12_hat) # b₁^\n",
    "#### выводим коэффициент детерминации модели, характеризуюший ее объясняющую способность.\n",
    "print('coefficient of determination:', model.score(X2, y))"
   ]
  }
 ],
 "metadata": {
  "kernelspec": {
   "display_name": "Python 3 (ipykernel)",
   "language": "python",
   "name": "python3"
  },
  "language_info": {
   "codemirror_mode": {
    "name": "ipython",
    "version": 3
   },
   "file_extension": ".py",
   "mimetype": "text/x-python",
   "name": "python",
   "nbconvert_exporter": "python",
   "pygments_lexer": "ipython3",
   "version": "3.9.6"
  },
  "toc": {
   "base_numbering": 1,
   "nav_menu": {},
   "number_sections": true,
   "sideBar": true,
   "skip_h1_title": false,
   "title_cell": "Table of Contents",
   "title_sidebar": "Contents",
   "toc_cell": true,
   "toc_position": {},
   "toc_section_display": true,
   "toc_window_display": false
  }
 },
 "nbformat": 4,
 "nbformat_minor": 5
}
