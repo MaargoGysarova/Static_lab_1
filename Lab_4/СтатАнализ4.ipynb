{
  "cells": [
    {
      "cell_type": "markdown",
      "metadata": {},
      "source": [
        "![Alt text](image.png)"
      ]
    },
    {
      "cell_type": "code",
      "execution_count": 2,
      "metadata": {
        "id": "nI7Qk3IRhEJR"
      },
      "outputs": [],
      "source": [
        "import numpy as np\n",
        "import pandas as pd\n",
        "from scipy import stats\n",
        "import statistics as st\n",
        "import matplotlib.pyplot as plt\n",
        "from sklearn.linear_model import LinearRegression\n",
        "from scipy.stats import norm\n",
        "from statsmodels.regression.linear_model import OLS, WLS\n",
        "from statsmodels.tools.tools import  add_constant"
      ]
    },
    {
      "cell_type": "code",
      "execution_count": 3,
      "metadata": {
        "colab": {
          "base_uri": "https://localhost:8080/",
          "height": 337
        },
        "id": "iwsiBZ8NhqaI",
        "outputId": "d3b2c3ba-aa5b-46cb-d782-4d9c4ec4c6ee"
      },
      "outputs": [
        {
          "data": {
            "text/html": [
              "<div>\n",
              "<style scoped>\n",
              "    .dataframe tbody tr th:only-of-type {\n",
              "        vertical-align: middle;\n",
              "    }\n",
              "\n",
              "    .dataframe tbody tr th {\n",
              "        vertical-align: top;\n",
              "    }\n",
              "\n",
              "    .dataframe thead th {\n",
              "        text-align: right;\n",
              "    }\n",
              "</style>\n",
              "<table border=\"1\" class=\"dataframe\">\n",
              "  <thead>\n",
              "    <tr style=\"text-align: right;\">\n",
              "      <th></th>\n",
              "      <th>СТАЖ РАБОТЫ (лет)</th>\n",
              "      <th>ВРЕМЯ, ЗАТРАЧЕННОЕ НА ОБРАЗОВАНИЕ (лет)</th>\n",
              "      <th>ПОЛ (1-жен, 0- муж)</th>\n",
              "      <th>Зарплата (долл. в час)</th>\n",
              "      <th>Unnamed: 4</th>\n",
              "      <th>Unnamed: 5</th>\n",
              "      <th>ЧАСТЬ 1</th>\n",
              "    </tr>\n",
              "  </thead>\n",
              "  <tbody>\n",
              "    <tr>\n",
              "      <th>0</th>\n",
              "      <td>22.384615</td>\n",
              "      <td>12</td>\n",
              "      <td>0</td>\n",
              "      <td>53.410000</td>\n",
              "      <td>NaN</td>\n",
              "      <td>NaN</td>\n",
              "      <td>В таблице содержатся данные о 540 работниках</td>\n",
              "    </tr>\n",
              "    <tr>\n",
              "      <th>1</th>\n",
              "      <td>8.903846</td>\n",
              "      <td>12</td>\n",
              "      <td>0</td>\n",
              "      <td>8.000000</td>\n",
              "      <td>NaN</td>\n",
              "      <td>NaN</td>\n",
              "      <td>1. Найдите оценки параметров линейной регресси...</td>\n",
              "    </tr>\n",
              "    <tr>\n",
              "      <th>2</th>\n",
              "      <td>13.250000</td>\n",
              "      <td>15</td>\n",
              "      <td>0</td>\n",
              "      <td>24.000000</td>\n",
              "      <td>NaN</td>\n",
              "      <td>NaN</td>\n",
              "      <td>1.1. Проверьте, обладает ли модель высокой объ...</td>\n",
              "    </tr>\n",
              "    <tr>\n",
              "      <th>3</th>\n",
              "      <td>18.250000</td>\n",
              "      <td>13</td>\n",
              "      <td>0</td>\n",
              "      <td>29.500000</td>\n",
              "      <td>NaN</td>\n",
              "      <td>NaN</td>\n",
              "      <td>2. Найдите оценки параметров линейной регресси...</td>\n",
              "    </tr>\n",
              "    <tr>\n",
              "      <th>4</th>\n",
              "      <td>13.769231</td>\n",
              "      <td>18</td>\n",
              "      <td>0</td>\n",
              "      <td>32.049999</td>\n",
              "      <td>NaN</td>\n",
              "      <td>NaN</td>\n",
              "      <td>2.1. Как в среднем изменится ЗАРПЛАТА, если СТ...</td>\n",
              "    </tr>\n",
              "  </tbody>\n",
              "</table>\n",
              "</div>"
            ],
            "text/plain": [
              "   СТАЖ РАБОТЫ (лет)  ВРЕМЯ, ЗАТРАЧЕННОЕ НА ОБРАЗОВАНИЕ (лет)  \\\n",
              "0          22.384615                                       12   \n",
              "1           8.903846                                       12   \n",
              "2          13.250000                                       15   \n",
              "3          18.250000                                       13   \n",
              "4          13.769231                                       18   \n",
              "\n",
              "   ПОЛ (1-жен, 0- муж)  Зарплата (долл. в час)  Unnamed: 4  Unnamed: 5  \\\n",
              "0                    0               53.410000         NaN         NaN   \n",
              "1                    0                8.000000         NaN         NaN   \n",
              "2                    0               24.000000         NaN         NaN   \n",
              "3                    0               29.500000         NaN         NaN   \n",
              "4                    0               32.049999         NaN         NaN   \n",
              "\n",
              "                                             ЧАСТЬ 1  \n",
              "0       В таблице содержатся данные о 540 работниках  \n",
              "1  1. Найдите оценки параметров линейной регресси...  \n",
              "2  1.1. Проверьте, обладает ли модель высокой объ...  \n",
              "3  2. Найдите оценки параметров линейной регресси...  \n",
              "4  2.1. Как в среднем изменится ЗАРПЛАТА, если СТ...  "
            ]
          },
          "execution_count": 3,
          "metadata": {},
          "output_type": "execute_result"
        }
      ],
      "source": [
        "doc2000 = pd.read_excel(\"/Users/margogusarova/VScode/Static/Static_lab_1/Lab_4/LAB_4_DATA_2023.xlsx\")\n",
        "doc2000.head()"
      ]
    },
    {
      "cell_type": "markdown",
      "metadata": {
        "id": "S2hL4A0Rj1RA"
      },
      "source": [
        "1. Найдите оценки параметров линейной регрессивной модели зависимости ЗАРПЛАТЫ от Z - Время затраченное на образование (лет)"
      ]
    },
    {
      "cell_type": "code",
      "execution_count": 4,
      "metadata": {
        "colab": {
          "base_uri": "https://localhost:8080/"
        },
        "id": "9T192aWHh01I",
        "outputId": "4d5147c4-673e-4dd6-8124-1e3bc91489bb"
      },
      "outputs": [
        {
          "name": "stdout",
          "output_type": "stream",
          "text": [
            "coefficient of determination: 0.17249816081531233\n",
            "intercept: -13.933465548912245\n",
            "slope: [2.45532052]\n",
            "Shapiro-Wilk Test:\n",
            "Ошибки регрессии имеют НЕ нормальное распределение\n",
            "Test Statistic: 0.7628456950187683\n",
            "p-value: 3.650963439973517e-27\n",
            "\n",
            "D'Agostino-Pearson Test:\n",
            "Ошибки регрессии имеют НЕ нормальное распределение\n",
            "Test Statistic: 393.26004215435154\n",
            "p-value: 4.0240824426038e-86\n"
          ]
        }
      ],
      "source": [
        "alfa=0.04\n",
        "Y = doc2000['Зарплата (долл. в час)']\n",
        "X = doc2000['ВРЕМЯ, ЗАТРАЧЕННОЕ НА ОБРАЗОВАНИЕ (лет)']\n",
        "\n",
        "\n",
        "X=np.array(X)\n",
        "\n",
        "x= X.reshape(len(X),1)\n",
        "model = LinearRegression()\n",
        "model.fit(x, Y)\n",
        "print('coefficient of determination:', model.score(x, Y))\n",
        "print('intercept:', model.intercept_) # b₀\n",
        "print('slope:', model.coef_) # b₁\n",
        "\n",
        "\n",
        "#проверка на нормальность остатков регрессии\n",
        "Y_predicted = model.predict(x)\n",
        "errors=Y-Y_predicted\n",
        "\n",
        "from scipy import stats\n",
        "\n",
        "\n",
        "# Тест Шапиро-Уилка\n",
        "shapiro_test_statistic, shapiro_p_value = stats.shapiro(errors)\n",
        "print(\"Shapiro-Wilk Test:\")\n",
        "if (shapiro_p_value > alfa):\n",
        "  print(\"Ошибки регрессии имеют нормальное распределение\")\n",
        "else:\n",
        "  print(\"Ошибки регрессии имеют НЕ нормальное распределение\")\n",
        "\n",
        "print(\"Test Statistic:\", shapiro_test_statistic)\n",
        "print(\"p-value:\", shapiro_p_value)\n",
        "\n",
        "# Тест Д'Агостино-Пирсона\n",
        "dagostino_test_statistic, dagostino_p_value = stats.normaltest(errors)\n",
        "print(\"\\nD'Agostino-Pearson Test:\")\n",
        "if (dagostino_p_value > alfa):\n",
        "  print(\"Ошибки регрессии имеют нормальное распределение\")\n",
        "else:\n",
        "  print(\"Ошибки регрессии имеют НЕ нормальное распределение\")\n",
        "print(\"Test Statistic:\", dagostino_test_statistic)\n",
        "print(\"p-value:\", dagostino_p_value)\n",
        "\n"
      ]
    },
    {
      "cell_type": "markdown",
      "metadata": {
        "id": "u1HHcXGt4IlT"
      },
      "source": [
        "1.1. Проверьте, обладает ли модель высокой объясняющей способностью, или же модель низкого качества"
      ]
    },
    {
      "cell_type": "code",
      "execution_count": 5,
      "metadata": {
        "colab": {
          "base_uri": "https://localhost:8080/"
        },
        "id": "oYlsC3Ndh4uY",
        "outputId": "4e32b453-1596-4884-fa41-d83f163cd80b"
      },
      "outputs": [
        {
          "name": "stdout",
          "output_type": "stream",
          "text": [
            "R-squared: 0.17249816081531233\n",
            "t-statistic: 112.14961239249328\n",
            "p-value: 1.1102230246251565e-16\n",
            "Модель обладает статистически значимой объясняющей способностью (высокой качеством).\n"
          ]
        }
      ],
      "source": [
        "#t-тест\n",
        "from scipy import stats\n",
        "\n",
        "# Параметры регрессии\n",
        "n = len(Y)  # Количество наблюдений\n",
        "k = 1  # Количество объясняющих переменных (модель имеет только одну)\n",
        "\n",
        "# R-квадрат из вашей модели\n",
        "r_squared = model.score(x, Y)\n",
        "\n",
        "# Вычисление статистики для t-теста\n",
        "t_statistic = (r_squared / (1 - r_squared)) * ((n - k - 1) / k)\n",
        "\n",
        "# Рассчитываем p-значение для t-теста\n",
        "p_value = 1 - stats.f.cdf(t_statistic, k, n - k - 1)\n",
        "\n",
        "# Определение уровня значимости \n",
        "alpha = 0.04\n",
        "\n",
        "# Вывод результатов\n",
        "print(\"R-squared:\", r_squared)\n",
        "print(\"t-statistic:\", t_statistic)\n",
        "print(\"p-value:\", p_value)\n",
        "\n",
        "if p_value < alpha:\n",
        "    print(\"Модель обладает статистически значимой объясняющей способностью (высокой качеством).\")\n",
        "else:\n",
        "    print(\"Модель не обладает статистически значимой объясняющей способностью (низкой качеством).\")\n"
      ]
    },
    {
      "cell_type": "code",
      "execution_count": 6,
      "metadata": {
        "colab": {
          "base_uri": "https://localhost:8080/"
        },
        "id": "IPgfPpVHh-v4",
        "outputId": "09fb9ea8-36c1-48bc-a8d0-02e2a0933f68"
      },
      "outputs": [
        {
          "name": "stdout",
          "output_type": "stream",
          "text": [
            "H0: построенная модель низкого качества\n",
            "H1: построенная модель обладает высокой объясняющей способностью\n",
            "Гипотеза H0 отвергается => построенная модель обладает высокой объясняющей способностью\n"
          ]
        }
      ],
      "source": [
        "#F-тест\n",
        "print(\"H0: построенная модель низкого качества\")\n",
        "print(\"H1: построенная модель обладает высокой объясняющей способностью\")\n",
        "k1=1\n",
        "k2=len(Y)-2\n",
        "\n",
        "RSS = sum((Y_predicted - Y.mean())**2)\n",
        "ESS = sum(errors**2)\n",
        "\n",
        "F=RSS*(len(Y)-2)/ESS\n",
        "f_critical = stats.f.ppf(1 - alpha, k1, k2)\n",
        "if(F > f_critical):\n",
        "  print(\"Гипотеза H0 отвергается => построенная модель обладает высокой объясняющей способностью\")\n",
        "else:\n",
        "  print(\"Гипотеза H0 принимается => построенная модель низкого качества\")"
      ]
    },
    {
      "cell_type": "markdown",
      "metadata": {
        "id": "9hTPgKEo4UWT"
      },
      "source": [
        "2. Найдите оценки параметров линейной регрессивной модели зависимости ЗАРПЛАТЫ от СТАЖА РАБОТЫ, ВРЕМЕНИ, ЗАТРАЧЕННОГО НА ОБРАЗОВАНИЕ, и ПОЛА РАБОТНИКА"
      ]
    },
    {
      "cell_type": "code",
      "execution_count": 10,
      "metadata": {},
      "outputs": [
        {
          "name": "stdout",
          "output_type": "stream",
          "text": [
            "                              OLS Regression Results                              \n",
            "==================================================================================\n",
            "Dep. Variable:     Зарплата (долл. в час)   R-squared:                       0.241\n",
            "Model:                                OLS   Adj. R-squared:                  0.237\n",
            "Method:                     Least Squares   F-statistic:                     56.68\n",
            "Date:                    Sat, 16 Dec 2023   Prob (F-statistic):           7.74e-32\n",
            "Time:                            13:13:45   Log-Likelihood:                -2132.2\n",
            "No. Observations:                     540   AIC:                             4272.\n",
            "Df Residuals:                         536   BIC:                             4290.\n",
            "Df Model:                               3                                         \n",
            "Covariance Type:                nonrobust                                         \n",
            "===========================================================================================================\n",
            "                                              coef    std err          t      P>|t|      [0.025      0.975]\n",
            "-----------------------------------------------------------------------------------------------------------\n",
            "const                                     -19.6919      4.361     -4.516      0.000     -28.258     -11.126\n",
            "СТАЖ РАБОТЫ (лет)                           0.4057      0.129      3.149      0.002       0.153       0.659\n",
            "ВРЕМЯ, ЗАТРАЧЕННОЕ НА ОБРАЗОВАНИЕ (лет)     2.5911      0.229     11.337      0.000       2.142       3.040\n",
            "ПОЛ (1-жен, 0- муж)                        -5.9091      1.114     -5.304      0.000      -8.097      -3.721\n",
            "==============================================================================\n",
            "Omnibus:                      404.752   Durbin-Watson:                   1.896\n",
            "Prob(Omnibus):                  0.000   Jarque-Bera (JB):             7226.889\n",
            "Skew:                           3.140   Prob(JB):                         0.00\n",
            "Kurtosis:                      19.785   Cond. No.                         178.\n",
            "==============================================================================\n",
            "\n",
            "Notes:\n",
            "[1] Standard Errors assume that the covariance matrix of the errors is correctly specified.\n"
          ]
        }
      ],
      "source": [
        "import statsmodels.api as sm\n",
        "\n",
        "# Ваши данные\n",
        "X = doc2000[['СТАЖ РАБОТЫ (лет)', 'ВРЕМЯ, ЗАТРАЧЕННОЕ НА ОБРАЗОВАНИЕ (лет)', 'ПОЛ (1-жен, 0- муж)']]\n",
        "Y = doc2000['Зарплата (долл. в час)']\n",
        "\n",
        "# Добавляем константу (b₀) в модель\n",
        "X = sm.add_constant(X)\n",
        "\n",
        "# Оценка параметров модели\n",
        "model = sm.OLS(Y, X).fit()\n",
        "\n",
        "result_2 = model.summary()\n",
        "# Вывод результатов\n",
        "print(model.summary())\n",
        "\n",
        "\n"
      ]
    },
    {
      "cell_type": "markdown",
      "metadata": {},
      "source": [
        "2.1. Как в среднем изменится ЗАРПЛАТА, если СТАЖ РАБОТЫ увеличится на 2 года?\t\t\t\t\t\t\t\t\t\t\t\t\t"
      ]
    },
    {
      "cell_type": "code",
      "execution_count": 11,
      "metadata": {},
      "outputs": [
        {
          "name": "stdout",
          "output_type": "stream",
          "text": [
            "Ожидаемое изменение зарплаты при увеличении стажа на 2 года: 0.8113543980273513\n"
          ]
        }
      ],
      "source": [
        "b1 = model.params['СТАЖ РАБОТЫ (лет)']  \n",
        "\n",
        "# Увеличение стажа на 2 года\n",
        "increase_in_experience = 2\n",
        "\n",
        "# Ожидаемое изменение зарплаты при увеличении стажа на 2 года\n",
        "expected_salary_change = b1 * increase_in_experience\n",
        "\n",
        "print(\"Ожидаемое изменение зарплаты при увеличении стажа на 2 года:\", expected_salary_change)\n",
        "\n",
        "#Если b₁ положительно, это означает, что с увеличением стажа работы зарплата в среднем увеличивается."
      ]
    },
    {
      "cell_type": "markdown",
      "metadata": {},
      "source": [
        "2.2. Какую в среднем прибавку к ЗАРПЛАТЕ  дает дополнительный год обучения?"
      ]
    },
    {
      "cell_type": "code",
      "execution_count": 12,
      "metadata": {},
      "outputs": [
        {
          "name": "stdout",
          "output_type": "stream",
          "text": [
            "Прибавка к зарплате за дополнительный год обучения: 2.591137323674422\n"
          ]
        }
      ],
      "source": [
        "b2 = model.params['ВРЕМЯ, ЗАТРАЧЕННОЕ НА ОБРАЗОВАНИЕ (лет)']  \n",
        "# Прибавка к зарплате за дополнительный год обучения\n",
        "additional_education_year_effect = b2 \n",
        "\n",
        "print(\"Прибавка к зарплате за дополнительный год обучения:\", additional_education_year_effect)\n",
        "\n",
        "#сли оцененный параметр для времени, затраченного на образование (b₂) равен 0, это означает, что в вашей модели образование не имеет статистически значимого влияния на зарплату. Следовательно, дополнительный год обучения в данной модели не прибавляет и не уменьшает в среднем зарплату.\n",
        "#В этом случае, если b₂ не статистически значимо отличается от нуля, то можно сказать, что в данной модели образование не оказывает статистически значимого влияния на зарплату работников."
      ]
    },
    {
      "cell_type": "code",
      "execution_count": 15,
      "metadata": {
        "id": "Qy9mBIqmiEOw"
      },
      "outputs": [],
      "source": [
        "X = doc2000[['СТАЖ РАБОТЫ (лет)', 'ВРЕМЯ, ЗАТРАЧЕННОЕ НА ОБРАЗОВАНИЕ (лет)', 'ПОЛ (1-жен, 0- муж)']]\n",
        "Y = doc2000['Зарплата (долл. в час)']\n",
        "\n",
        "# Добавляем константу (b₀) в модель\n",
        "X = sm.add_constant(X)\n",
        "\n",
        "# Оценка параметров модели\n",
        "model = sm.OLS(Y, X).fit()\n",
        "\n",
        "# Получение предсказанных значений\n",
        "Y_predicted = model.predict(X)\n",
        "\n",
        "# Вычисление вектора остатков\n",
        "e = Y - Y_predicted"
      ]
    },
    {
      "cell_type": "code",
      "execution_count": 16,
      "metadata": {
        "colab": {
          "base_uri": "https://localhost:8080/"
        },
        "id": "WIk53jI7iJAQ",
        "outputId": "c21af58f-3dac-47d2-f6f9-0a051b2579fe"
      },
      "outputs": [
        {
          "name": "stdout",
          "output_type": "stream",
          "text": [
            "Shapiro-Wilk Test:\n",
            "Ошибки регрессии имеют НЕ нормальное распределение\n",
            "Test Statistic: 0.7591450214385986\n",
            "p-value: 2.435342073944554e-27\n",
            "\n",
            "D'Agostino-Pearson Test:\n",
            "Ошибки регрессии имеют НЕ нормальное распределение\n",
            "Test Statistic: 404.75225464943424\n",
            "p-value: 1.2857739834290298e-88\n"
          ]
        }
      ],
      "source": [
        "# Тест Шапиро-Уилка\n",
        "shapiro_test_statistic, shapiro_p_value = stats.shapiro(e)\n",
        "print(\"Shapiro-Wilk Test:\")\n",
        "if (shapiro_p_value > alfa):\n",
        "  print(\"Ошибки регрессии имеют нормальное распределение\")\n",
        "else:\n",
        "  print(\"Ошибки регрессии имеют НЕ нормальное распределение\")\n",
        "\n",
        "print(\"Test Statistic:\", shapiro_test_statistic)\n",
        "print(\"p-value:\", shapiro_p_value)\n",
        "\n",
        "# Тест Д'Агостино-Пирсона\n",
        "dagostino_test_statistic, dagostino_p_value = stats.normaltest(e)\n",
        "print(\"\\nD'Agostino-Pearson Test:\")\n",
        "if (dagostino_p_value > alfa):\n",
        "  print(\"Ошибки регрессии имеют нормальное распределение\")\n",
        "else:\n",
        "  print(\"Ошибки регрессии имеют НЕ нормальное распределение\")\n",
        "print(\"Test Statistic:\", dagostino_test_statistic)\n",
        "print(\"p-value:\", dagostino_p_value)"
      ]
    },
    {
      "cell_type": "markdown",
      "metadata": {
        "id": "ZBzL1F0b4xpE"
      },
      "source": [
        "2.3 Проверьте, обладает ли модель из п.3. высокой объясняющей способностью, или же модель низкого качества"
      ]
    },
    {
      "cell_type": "code",
      "execution_count": 18,
      "metadata": {
        "colab": {
          "base_uri": "https://localhost:8080/"
        },
        "id": "_Fmf5sFsiMJg",
        "outputId": "9e646537-ed3b-43f5-d787-bf712ebafb3e"
      },
      "outputs": [
        {
          "name": "stdout",
          "output_type": "stream",
          "text": [
            "H0: bi=0 => незначим \n",
            "H1: bi не равен 0 => значим\n",
            "\n",
            " b0 значим\n",
            " b1 значим\n",
            " b2 значим\n",
            " b3 значим\n",
            "[[ 1.19867916e-01 -2.45008050e-03 -5.27439010e-03 -8.99239602e-03]\n",
            " [-2.45008050e-03  1.04603019e-04  4.23119835e-05  2.07506753e-04]\n",
            " [-5.27439010e-03  4.23119835e-05  3.29260807e-04  1.15151163e-04]\n",
            " [-8.99239602e-03  2.07506753e-04  1.15151163e-04  7.82217140e-03]]\n"
          ]
        }
      ],
      "source": [
        "#t-тест\n",
        "print(f\"H0: bi=0 => незначим \")\n",
        "print(f'H1: bi не равен 0 => значим')\n",
        "print()\n",
        "\n",
        "bi= model.params\n",
        "bi=np.array(bi)\n",
        "\n",
        "\n",
        "Z=X.transpose().dot(X)\n",
        "invZ=np.linalg.matrix_power(Z, -1)\n",
        "s_e_2=(1/(len(Y)-4))*sum(e**2)\n",
        "s_e=np.sqrt(s_e_2)\n",
        "\n",
        "t_crit= stats.t.ppf(1 - alpha / 2, len(Y))\n",
        "\n",
        "cob0=s_e*np.sqrt(invZ[0, 0])\n",
        "t=bi[0]/cob0\n",
        "if(abs(t)>t_crit):\n",
        "    print(f\" b{0} значим\")\n",
        "else:\n",
        "    print(f\" b{0}  НЕ значим\")\n",
        "\n",
        "for i in range(len(bi)-1):\n",
        "  cobi=s_e*np.sqrt(invZ[i+1, i+1])\n",
        "  t=bi[i+1]/cobi\n",
        "  if(abs(t)>t_crit):\n",
        "      print(f\" b{i+1} значим\")\n",
        "  else:\n",
        "      print(f\" b{i+1}  НЕ значим\")\n",
        "\n",
        "print(invZ)"
      ]
    },
    {
      "cell_type": "code",
      "execution_count": 19,
      "metadata": {
        "colab": {
          "base_uri": "https://localhost:8080/"
        },
        "id": "8WFZK8BpiOfn",
        "outputId": "6a64532b-3b72-448d-d855-962d842b6bd7"
      },
      "outputs": [
        {
          "name": "stdout",
          "output_type": "stream",
          "text": [
            "H0: построенная модель низкого качества\n",
            "H1: построенная модель обладает высокой объясняющей способностью\n",
            "Гипотеза H0 отвергается => построенная модель обладает высокой объясняющей способностью\n"
          ]
        }
      ],
      "source": [
        "#F-тест\n",
        "print(\"H0: построенная модель низкого качества\")\n",
        "print(\"H1: построенная модель обладает высокой объясняющей способностью\")\n",
        "#k1=4\n",
        "#k2=536\n",
        "m=4\n",
        "k1=m\n",
        "k2=len(Y)-m-1\n",
        "\n",
        "RSS = sum((Y_predicted - Y.mean())**2)\n",
        "ESS = sum(e**2)\n",
        "\n",
        "F=RSS*(len(Y)-m-1)/(ESS*m)\n",
        "F_critic =stats.f.ppf(1 - alpha, k1, k2)\n",
        "if(F > F_critic):\n",
        "  print(\"Гипотеза H0 отвергается => построенная модель обладает высокой объясняющей способностью\")\n",
        "else:\n",
        "  print(\"Гипотеза H0 принимается => построенная модель низкого качества\")"
      ]
    },
    {
      "cell_type": "markdown",
      "metadata": {
        "id": "wXX_jU2W5BEl"
      },
      "source": [
        "2.4. Значимо ли отличаются зарплаты мужчины и женщины при прочих равных условиях (т. е. стаже и числу лет, затраченных на образование)?"
      ]
    },
    {
      "cell_type": "code",
      "execution_count": 20,
      "metadata": {
        "colab": {
          "base_uri": "https://localhost:8080/"
        },
        "id": "dlJs83VOiPT3",
        "outputId": "ff9bce01-e411-473c-bfe4-36e16f8144a1"
      },
      "outputs": [
        {
          "name": "stdout",
          "output_type": "stream",
          "text": [
            "H0: b3=0\n",
            "H1: b3 не равно 0 , следовательно значимо\n",
            "Принимаем H1\n"
          ]
        }
      ],
      "source": [
        "print(\"H0: b3=0\")\n",
        "print(\"H1: b3 не равно 0 , следовательно значимо\")\n",
        "Z=X.transpose().dot(X) # Вычисление ковариационной матрицы\n",
        "invZ=np.linalg.matrix_power(Z, -1)\n",
        "s_e_2=(1/(len(Y)-4))*sum(e**2) # Вычисление стандартных ошибок коэффициентов\n",
        "\n",
        "cob3=np.sqrt(s_e_2)*np.sqrt(invZ[3,3])\n",
        "\n",
        "t=bi[3]/cob3 # отношение оценки коэффициента к соответствующей стандартной ошибке.\n",
        "t_crit= stats.t.ppf(1 - alpha / 2, len(Y)-4-1)\n",
        "if (abs(t)>t_crit):\n",
        "  print(\"Принимаем H1\")\n",
        "else:\n",
        "  print(\"Принимаем H0\")"
      ]
    },
    {
      "cell_type": "markdown",
      "metadata": {
        "id": "nv9UR1v35pCS"
      },
      "source": [
        "6. Проверьте, отражает ли полученное при оценке регрессии значение коэффициента при факторе СТАЖ РАБОТЫ истинную зависимость, или же оно появилось случайно?"
      ]
    },
    {
      "cell_type": "code",
      "execution_count": null,
      "metadata": {
        "colab": {
          "base_uri": "https://localhost:8080/"
        },
        "id": "96SC8an2iS4g",
        "outputId": "49a54d9c-40d7-48b1-f85c-a61aa1a53d7c"
      },
      "outputs": [
        {
          "name": "stdout",
          "output_type": "stream",
          "text": [
            "H0: b1=0\n",
            "H1: b1 не равно 0 , следовательно значимо\n",
            "Принимаем H1\n",
            "Отражает истинную зависимость \n"
          ]
        }
      ],
      "source": [
        "print(\"H0: b1=0\")\n",
        "print(\"H1: b1 не равно 0 , следовательно значимо\")\n",
        "s_e_2=(1/(len(Y)-4))*sum(e**2)\n",
        "cob1=np.sqrt(s_e_2)*np.sqrt(invZ[1,1])\n",
        "t=bi[1]/cob1\n",
        "\n",
        "t_crit=stats.t.ppf(1 - alpha / 2, len(Y))\n",
        "if (abs(t)>t_crit):\n",
        "  print(\"Принимаем H1\")\n",
        "  print(\"Отражает истинную зависимость \")\n",
        "else:\n",
        "  print(\"Принимаем H0\")\n"
      ]
    },
    {
      "cell_type": "markdown",
      "metadata": {
        "id": "HyP7VfCf6Zeq"
      },
      "source": [
        "7. Проверьте, отражает ли полученное при оценке регрессии значение коэффициента при факторе ВРЕМЯ, ЗАТРАЧЕННОЕ НА ОБРАЗОВАНИЕ, истинную зависимость, или же оно появилось случайно?"
      ]
    },
    {
      "cell_type": "code",
      "execution_count": null,
      "metadata": {
        "colab": {
          "base_uri": "https://localhost:8080/"
        },
        "id": "-WUbocaJiUnf",
        "outputId": "734dfbe8-021b-4c28-8a32-30604f7ce52f"
      },
      "outputs": [
        {
          "name": "stdout",
          "output_type": "stream",
          "text": [
            "H0: b2=0\n",
            "H1: b2 не равно 0 , следовательно значимо\n",
            "Принимаем H1\n",
            "Отражает истинную зависимость \n"
          ]
        }
      ],
      "source": [
        "print(\"H0: b2=0\")\n",
        "print(\"H1: b2 не равно 0 , следовательно значимо\")\n",
        "s_e_2=(1/(len(Y)-4))*sum(e**2)\n",
        "cob2=np.sqrt(s_e_2)*np.sqrt(invZ[2,2])\n",
        "t=bi[2]/cob2\n",
        "\n",
        "t_crit=stats.t.ppf(1 - alpha / 2, len(Y))\n",
        "if (abs(t)>t_crit):\n",
        "  print(\"Принимаем H1\")\n",
        "  print(\"Отражает истинную зависимость \")\n",
        "else:\n",
        "  print(\"Принимаем H0\")\n"
      ]
    },
    {
      "cell_type": "markdown",
      "metadata": {
        "id": "b85MuyYx6X0a"
      },
      "source": [
        "8. С надежностью гамма постройте доверительные интервалы для теоретических коэффициентов регрессии модели"
      ]
    },
    {
      "cell_type": "code",
      "execution_count": null,
      "metadata": {
        "colab": {
          "base_uri": "https://localhost:8080/"
        },
        "id": "QLIWm4z5iW6P",
        "outputId": "21e693e4-8a77-4140-cb7d-f2f9c3df55b2"
      },
      "outputs": [
        {
          "name": "stdout",
          "output_type": "stream",
          "text": [
            "Доверительный интервал для b0: (-27.75524127802892 ; -11.628652912661048)\n",
            "Доверительный интервал для b1: (0.16748192684571803 ; 0.6438724711816314)\n",
            "Доверительный интервал для b2: (2.16853581191599 ; 3.0137388354328616)\n",
            "Доверительный интервал для b3: (-7.968848513837383 ; -3.8492519542243073)\n"
          ]
        }
      ],
      "source": [
        "gamma = 0.96\n",
        "df = len(Y)- 4\n",
        "t_crit = stats.t.ppf((1 + gamma) / 2, df)\n",
        "delta=(1 - 0.04) / 536 #1-gamma=0.04 k=536\n",
        "b0_left=bi[0]-t_crit*cob0\n",
        "b0_right=bi[0]+t_crit*cob0\n",
        "print(f\"Доверительный интервал для b0: ({b0_left} ; {b0_right})\")\n",
        "\n",
        "b1_left=bi[1]-delta*cob1\n",
        "b1_right=bi[1]+delta*cob1\n",
        "print(f\"Доверительный интервал для b1: ({b1_left} ; {b1_right})\")\n",
        "\n",
        "b2_left=bi[2]-delta*cob2\n",
        "b2_right=bi[2]+delta*cob2\n",
        "print(f\"Доверительный интервал для b2: ({b2_left} ; {b2_right})\")\n",
        "\n",
        "b3_left=bi[3]-delta*cob3\n",
        "b3_right=bi[3]+delta*cob3\n",
        "print(f\"Доверительный интервал для b3: ({b3_left} ; {b3_right})\")"
      ]
    },
    {
      "cell_type": "markdown",
      "metadata": {
        "id": "Sp2WnJSa6VFi"
      },
      "source": [
        "9. С надежностью гамма найдите интервальную оценку прогнозной ЗАРПЛАТЫ работника, с гендерной принадлежностью 0 (мужчины), если СТАЖ РАБОТЫ составляет 6 лет, а ВРЕМЯ, ЗАТРАЧЕННОЕ НА ОБРАЗОВАНИЕ, равно 12 годам."
      ]
    },
    {
      "cell_type": "code",
      "execution_count": null,
      "metadata": {
        "colab": {
          "base_uri": "https://localhost:8080/"
        },
        "id": "kubnis34iY-w",
        "outputId": "54870dd9-d852-4204-f146-89678170e3ad"
      },
      "outputs": [
        {
          "name": "stdout",
          "output_type": "stream",
          "text": [
            "(7.615695931523099 ; 54.57159983666312)\n"
          ]
        }
      ],
      "source": [
        "delta=1.849057047 #1-gamma=0.065 k=536\n",
        "xp=[1.0, 6.0, 12.0, 1.0]\n",
        "xp=np.array(xp)\n",
        "\n",
        "for i in range(3):\n",
        "  Yp_hat =+ bi[i]*xp[i]\n",
        "\n",
        "xp_t=xp.transpose()\n",
        "co=s_e*np.sqrt(1+(xp.dot(invZ)).dot(xp))\n",
        "\n",
        "Yp_left=Yp_hat-delta*co\n",
        "Yp_right=Yp_hat+delta*co\n",
        "print(f'({Yp_left} ; {Yp_right})')"
      ]
    },
    {
      "cell_type": "markdown",
      "metadata": {
        "id": "6tq2Lw5v6kz7"
      },
      "source": [
        "10. Как в среднем изменится ЗАРПЛАТА, если СТАЖ РАБОТЫ увеличится на 2 года"
      ]
    },
    {
      "cell_type": "code",
      "execution_count": null,
      "metadata": {
        "colab": {
          "base_uri": "https://localhost:8080/"
        },
        "id": "fIpxiQ1bick4",
        "outputId": "5e938121-94ed-4f40-ae72-b59a70c94d81"
      },
      "outputs": [
        {
          "name": "stdout",
          "output_type": "stream",
          "text": [
            "Увеличится на 0.8113543980273494 долларов в среднем\n"
          ]
        }
      ],
      "source": [
        "print(f\"Увеличится на {bi[1]*2} долларов в среднем\")"
      ]
    },
    {
      "cell_type": "markdown",
      "metadata": {
        "id": "K0iAhD8i6zYq"
      },
      "source": [
        "11. Какую в среднем прибавку к ЗАРПЛАТЕ дает дополнительный год обучения"
      ]
    },
    {
      "cell_type": "code",
      "execution_count": null,
      "metadata": {
        "colab": {
          "base_uri": "https://localhost:8080/"
        },
        "id": "guoxRyVKieBH",
        "outputId": "6fec248f-8145-49f6-b961-8a8d1b4a2c4c"
      },
      "outputs": [
        {
          "name": "stdout",
          "output_type": "stream",
          "text": [
            "Прибавка составит 2.5911373236744257 долларов в среднем\n"
          ]
        }
      ],
      "source": [
        "print(f\"Прибавка составит {bi[2]} долларов в среднем\")"
      ]
    },
    {
      "cell_type": "markdown",
      "metadata": {
        "id": "-LVgS2t07c5L"
      },
      "source": [
        "Кластаризация ирисов"
      ]
    },
    {
      "cell_type": "code",
      "execution_count": null,
      "metadata": {
        "id": "lJSYNeypikkH"
      },
      "outputs": [],
      "source": [
        "import pandas as pd\n",
        "import numpy as np\n",
        "from matplotlib import pyplot as plt\n",
        "from sklearn.datasets import load_iris\n",
        "import seaborn as sns\n",
        "from matplotlib.colors import ListedColormap\n",
        "from sklearn import neighbors, datasets\n",
        "from sklearn.neighbors import KNeighborsClassifier\n",
        "from sklearn.metrics import confusion_matrix\n",
        "from sklearn.metrics import accuracy_score\n",
        "from sklearn.cluster import KMeans\n",
        "\n",
        "iris = load_iris(as_frame=True)"
      ]
    },
    {
      "cell_type": "code",
      "execution_count": null,
      "metadata": {
        "colab": {
          "base_uri": "https://localhost:8080/",
          "height": 206
        },
        "id": "TxWAguztimbI",
        "outputId": "804ca92f-4dfc-4668-ce7d-7e1e03d2cd35"
      },
      "outputs": [
        {
          "data": {
            "text/html": [
              "\n",
              "  <div id=\"df-d264a1a9-3bd9-471f-95b2-90f30c822dd8\">\n",
              "    <div class=\"colab-df-container\">\n",
              "      <div>\n",
              "<style scoped>\n",
              "    .dataframe tbody tr th:only-of-type {\n",
              "        vertical-align: middle;\n",
              "    }\n",
              "\n",
              "    .dataframe tbody tr th {\n",
              "        vertical-align: top;\n",
              "    }\n",
              "\n",
              "    .dataframe thead th {\n",
              "        text-align: right;\n",
              "    }\n",
              "</style>\n",
              "<table border=\"1\" class=\"dataframe\">\n",
              "  <thead>\n",
              "    <tr style=\"text-align: right;\">\n",
              "      <th></th>\n",
              "      <th>0</th>\n",
              "      <th>1</th>\n",
              "      <th>2</th>\n",
              "    </tr>\n",
              "  </thead>\n",
              "  <tbody>\n",
              "    <tr>\n",
              "      <th>sepal length (cm)</th>\n",
              "      <td>5.006</td>\n",
              "      <td>5.936</td>\n",
              "      <td>6.588</td>\n",
              "    </tr>\n",
              "    <tr>\n",
              "      <th>sepal width (cm)</th>\n",
              "      <td>3.428</td>\n",
              "      <td>2.770</td>\n",
              "      <td>2.974</td>\n",
              "    </tr>\n",
              "    <tr>\n",
              "      <th>petal length (cm)</th>\n",
              "      <td>1.462</td>\n",
              "      <td>4.260</td>\n",
              "      <td>5.552</td>\n",
              "    </tr>\n",
              "    <tr>\n",
              "      <th>petal width (cm)</th>\n",
              "      <td>0.246</td>\n",
              "      <td>1.326</td>\n",
              "      <td>2.026</td>\n",
              "    </tr>\n",
              "    <tr>\n",
              "      <th>target</th>\n",
              "      <td>0.000</td>\n",
              "      <td>1.000</td>\n",
              "      <td>2.000</td>\n",
              "    </tr>\n",
              "  </tbody>\n",
              "</table>\n",
              "</div>\n",
              "      <button class=\"colab-df-convert\" onclick=\"convertToInteractive('df-d264a1a9-3bd9-471f-95b2-90f30c822dd8')\"\n",
              "              title=\"Convert this dataframe to an interactive table.\"\n",
              "              style=\"display:none;\">\n",
              "        \n",
              "  <svg xmlns=\"http://www.w3.org/2000/svg\" height=\"24px\"viewBox=\"0 0 24 24\"\n",
              "       width=\"24px\">\n",
              "    <path d=\"M0 0h24v24H0V0z\" fill=\"none\"/>\n",
              "    <path d=\"M18.56 5.44l.94 2.06.94-2.06 2.06-.94-2.06-.94-.94-2.06-.94 2.06-2.06.94zm-11 1L8.5 8.5l.94-2.06 2.06-.94-2.06-.94L8.5 2.5l-.94 2.06-2.06.94zm10 10l.94 2.06.94-2.06 2.06-.94-2.06-.94-.94-2.06-.94 2.06-2.06.94z\"/><path d=\"M17.41 7.96l-1.37-1.37c-.4-.4-.92-.59-1.43-.59-.52 0-1.04.2-1.43.59L10.3 9.45l-7.72 7.72c-.78.78-.78 2.05 0 2.83L4 21.41c.39.39.9.59 1.41.59.51 0 1.02-.2 1.41-.59l7.78-7.78 2.81-2.81c.8-.78.8-2.07 0-2.86zM5.41 20L4 18.59l7.72-7.72 1.47 1.35L5.41 20z\"/>\n",
              "  </svg>\n",
              "      </button>\n",
              "      \n",
              "  <style>\n",
              "    .colab-df-container {\n",
              "      display:flex;\n",
              "      flex-wrap:wrap;\n",
              "      gap: 12px;\n",
              "    }\n",
              "\n",
              "    .colab-df-convert {\n",
              "      background-color: #E8F0FE;\n",
              "      border: none;\n",
              "      border-radius: 50%;\n",
              "      cursor: pointer;\n",
              "      display: none;\n",
              "      fill: #1967D2;\n",
              "      height: 32px;\n",
              "      padding: 0 0 0 0;\n",
              "      width: 32px;\n",
              "    }\n",
              "\n",
              "    .colab-df-convert:hover {\n",
              "      background-color: #E2EBFA;\n",
              "      box-shadow: 0px 1px 2px rgba(60, 64, 67, 0.3), 0px 1px 3px 1px rgba(60, 64, 67, 0.15);\n",
              "      fill: #174EA6;\n",
              "    }\n",
              "\n",
              "    [theme=dark] .colab-df-convert {\n",
              "      background-color: #3B4455;\n",
              "      fill: #D2E3FC;\n",
              "    }\n",
              "\n",
              "    [theme=dark] .colab-df-convert:hover {\n",
              "      background-color: #434B5C;\n",
              "      box-shadow: 0px 1px 3px 1px rgba(0, 0, 0, 0.15);\n",
              "      filter: drop-shadow(0px 1px 2px rgba(0, 0, 0, 0.3));\n",
              "      fill: #FFFFFF;\n",
              "    }\n",
              "  </style>\n",
              "\n",
              "      <script>\n",
              "        const buttonEl =\n",
              "          document.querySelector('#df-d264a1a9-3bd9-471f-95b2-90f30c822dd8 button.colab-df-convert');\n",
              "        buttonEl.style.display =\n",
              "          google.colab.kernel.accessAllowed ? 'block' : 'none';\n",
              "\n",
              "        async function convertToInteractive(key) {\n",
              "          const element = document.querySelector('#df-d264a1a9-3bd9-471f-95b2-90f30c822dd8');\n",
              "          const dataTable =\n",
              "            await google.colab.kernel.invokeFunction('convertToInteractive',\n",
              "                                                     [key], {});\n",
              "          if (!dataTable) return;\n",
              "\n",
              "          const docLinkHtml = 'Like what you see? Visit the ' +\n",
              "            '<a target=\"_blank\" href=https://colab.research.google.com/notebooks/data_table.ipynb>data table notebook</a>'\n",
              "            + ' to learn more about interactive tables.';\n",
              "          element.innerHTML = '';\n",
              "          dataTable['output_type'] = 'display_data';\n",
              "          await google.colab.output.renderOutput(dataTable, element);\n",
              "          const docLink = document.createElement('div');\n",
              "          docLink.innerHTML = docLinkHtml;\n",
              "          element.appendChild(docLink);\n",
              "        }\n",
              "      </script>\n",
              "    </div>\n",
              "  </div>\n",
              "  "
            ],
            "text/plain": [
              "                       0      1      2\n",
              "sepal length (cm)  5.006  5.936  6.588\n",
              "sepal width (cm)   3.428  2.770  2.974\n",
              "petal length (cm)  1.462  4.260  5.552\n",
              "petal width (cm)   0.246  1.326  2.026\n",
              "target             0.000  1.000  2.000"
            ]
          },
          "execution_count": 20,
          "metadata": {},
          "output_type": "execute_result"
        }
      ],
      "source": [
        "class_feature_means = pd.DataFrame()\n",
        "for c, rows in iris.frame.groupby('target'):\n",
        "    #print(rows)\n",
        "    #print(c)\n",
        "    class_feature_means[c] = rows.mean()\n",
        "class_feature_means"
      ]
    },
    {
      "cell_type": "code",
      "execution_count": null,
      "metadata": {
        "colab": {
          "base_uri": "https://localhost:8080/",
          "height": 295
        },
        "id": "e2bfehxxioXg",
        "outputId": "adec267e-6f48-4029-b066-1221367ae186"
      },
      "outputs": [
        {
          "data": {
            "image/png": "[encoded data removed]",
            "text/plain": [
              "<Figure size 432x288 with 1 Axes>"
            ]
          },
          "metadata": {
            "needs_background": "light"
          },
          "output_type": "display_data"
        }
      ],
      "source": [
        "axes = plt.axes()\n",
        "legend = []\n",
        "plt.title('Классы')\n",
        "x_lable='sepal length (cm)'\n",
        "y_lable='petal length (cm)'\n",
        "axes.set_xlabel(x_lable)             \n",
        "axes.set_ylabel(y_lable)  \n",
        "for c, rows in iris.frame.groupby('target'):\n",
        "    plt.scatter(rows[x_lable], rows[y_lable])\n",
        "    legend.append(\"target=%s\" % c)\n",
        "plt.legend(legend, loc=\"upper left\")\n",
        "plt.grid()\n",
        "plt.show()"
      ]
    },
    {
      "cell_type": "code",
      "execution_count": null,
      "metadata": {
        "colab": {
          "base_uri": "https://localhost:8080/"
        },
        "id": "KGW6IWIaiqQA",
        "outputId": "55a2e8a5-714b-4a31-d3c8-fbe7294213e0"
      },
      "outputs": [
        {
          "name": "stdout",
          "output_type": "stream",
          "text": [
            "     sepal length (cm)  petal length (cm)\n",
            "0                  5.1                1.4\n",
            "1                  4.9                1.4\n",
            "2                  4.7                1.3\n",
            "3                  4.6                1.5\n",
            "4                  5.0                1.4\n",
            "..                 ...                ...\n",
            "145                6.7                5.2\n",
            "146                6.3                5.0\n",
            "147                6.5                5.2\n",
            "148                6.2                5.4\n",
            "149                5.9                5.1\n",
            "\n",
            "[150 rows x 2 columns]\n",
            "__________\n",
            "0      0\n",
            "1      0\n",
            "2      0\n",
            "3      0\n",
            "4      0\n",
            "      ..\n",
            "145    2\n",
            "146    2\n",
            "147    2\n",
            "148    2\n",
            "149    2\n",
            "Name: target, Length: 150, dtype: int64\n"
          ]
        }
      ],
      "source": [
        "from sklearn.neighbors import KNeighborsClassifier\n",
        "knn_model = KNeighborsClassifier(n_neighbors=3)\n",
        "X = iris.data[['sepal length (cm)', 'petal length (cm)']]\n",
        "y = iris.target\n",
        "print(X)\n",
        "print(\"__________\")\n",
        "print(y)\n",
        "target_names = iris.target_names\n",
        "X_knn = knn_model.fit(X, y)"
      ]
    },
    {
      "cell_type": "code",
      "execution_count": null,
      "metadata": {
        "colab": {
          "base_uri": "https://localhost:8080/"
        },
        "id": "jTRp_l3HirvI",
        "outputId": "54468fce-ab11-427d-acfa-70205fbd0ac5"
      },
      "outputs": [
        {
          "name": "stdout",
          "output_type": "stream",
          "text": [
            "[0 0 0 0 0 0 0 0 0 0 0 0 0 0 0 0 0 0 0 0 0 0 0 0 0 0 0 0 0 0 0 0 0 0 0 0 0\n",
            " 0 0 0 0 0 0 0 0 0 0 0 0 0 1 1 1 1 1 1 1 1 1 1 1 1 1 1 1 1 1 1 1 1 1 1 2 1\n",
            " 1 1 1 2 1 1 1 1 1 2 1 1 1 1 1 1 1 1 1 1 1 1 1 1 1 1 2 2 2 2 2 2 1 2 2 2 2\n",
            " 2 2 2 2 2 2 2 2 2 2 2 2 2 2 2 1 2 2 2 2 2 2 2 2 2 2 2 1 2 2 1 2 2 2 2 2 2\n",
            " 2 2]\n",
            "0.9533333333333334\n"
          ]
        }
      ],
      "source": [
        "from sklearn.metrics import confusion_matrix\n",
        "from sklearn.metrics import accuracy_score\n",
        "predictions = X_knn.predict(X) #Определим метки классов для тестовых данных\n",
        "accuracy_score(y, predictions) #Оценим точность определения меток\n",
        "\n",
        "print(predictions)\n",
        "print(accuracy_score(y, predictions))"
      ]
    },
    {
      "cell_type": "code",
      "execution_count": null,
      "metadata": {
        "colab": {
          "base_uri": "https://localhost:8080/"
        },
        "id": "485a5xfbjGZf",
        "outputId": "8d6ff0c4-1a6d-4850-dd99-86823a4a11ea"
      },
      "outputs": [
        {
          "data": {
            "text/plain": [
              "array([[50,  0,  0],\n",
              "       [ 0, 47,  3],\n",
              "       [ 0,  4, 46]])"
            ]
          },
          "execution_count": 24,
          "metadata": {},
          "output_type": "execute_result"
        }
      ],
      "source": [
        "confusion_matrix(y, predictions)"
      ]
    },
    {
      "cell_type": "markdown",
      "metadata": {
        "id": "oSpg9scB7mra"
      },
      "source": [
        "# Определение границ классов"
      ]
    },
    {
      "cell_type": "code",
      "execution_count": null,
      "metadata": {
        "colab": {
          "base_uri": "https://localhost:8080/",
          "height": 404
        },
        "id": "gKiqMvsWjMoX",
        "outputId": "8ff25216-46c5-4122-daf9-955772598512"
      },
      "outputs": [
        {
          "data": {
            "image/png": "[encoded data removed]",
            "text/plain": [
              "<Figure size 576x432 with 1 Axes>"
            ]
          },
          "metadata": {
            "needs_background": "light"
          },
          "output_type": "display_data"
        }
      ],
      "source": [
        "import numpy as np\n",
        "import matplotlib.pyplot as plt\n",
        "import seaborn as sns\n",
        "from matplotlib.colors import ListedColormap\n",
        "from sklearn import neighbors, datasets\n",
        "\n",
        "n_neighbors = 3\n",
        "\n",
        "iris = datasets.load_iris()\n",
        "\n",
        "x = iris.data[:, :] #все данные об ирисах\n",
        "\n",
        "X=np.delete(x,1, 1)\n",
        "X=np.delete(X,2,1)\n",
        "#print(X) #оставляем только нужные данные\n",
        "\n",
        "y = iris.target\n",
        "\n",
        "h = .03  # step size in the mesh (размер шага в сетке)\n",
        "\n",
        "# Create color maps\n",
        "cmap_light = ListedColormap(['blue', 'orange', 'green'])\n",
        "cmap_bold = ['darkblue', 'darkorange', 'darkgreen']\n",
        "\n",
        "# создаем экземпляр классификатора соседей и подгоняем данные.\n",
        "clf = neighbors.KNeighborsClassifier(n_neighbors, weights='uniform')\n",
        "clf.fit(X, y)\n",
        "\n",
        "\n",
        "# Нанесите на график границу принятия решения. Для этого мы назначим цвет каждому\n",
        "# point in the mesh [x_min, x_max]x[y_min, y_max].\n",
        "x_min, x_max = X[:, 0].min() - 0.1, X[:, 0].max() + 0.1\n",
        "y_min, y_max = X[:, 1].min() - 0.1, X[:, 1].max() + 0.1\n",
        "xx, yy = np.meshgrid(np.arange(x_min, x_max, h),np.arange(y_min, y_max, h))\n",
        "Z = clf.predict(np.c_[xx.ravel(), yy.ravel()])\n",
        "\n",
        "# Put the result into a color plot\n",
        "Z = Z.reshape(xx.shape)\n",
        "plt.figure(figsize=(8, 6))\n",
        "plt.contourf(xx, yy, Z, cmap=cmap_light)\n",
        "\n",
        "# Plot also the training points\n",
        "sns.scatterplot(x=X[:, 0], y=X[:, 1], hue=iris.target_names[y], palette=cmap_bold, alpha=1.0, edgecolor=\"black\")\n",
        "plt.xlim(xx.min(), xx.max())\n",
        "plt.ylim(yy.min(), yy.max())\n",
        "plt.title(\"Iris classification (k = %i)\" % (n_neighbors))\n",
        "plt.xlabel(iris.feature_names[0]) #sepal length\n",
        "plt.ylabel(iris.feature_names[2]) #petal length\n",
        "\n",
        "plt.show()\n"
      ]
    },
    {
      "cell_type": "markdown",
      "metadata": {
        "id": "udfUzeZf7rvi"
      },
      "source": [
        "# Определение оптимального числа соседей"
      ]
    },
    {
      "cell_type": "code",
      "execution_count": null,
      "metadata": {
        "colab": {
          "base_uri": "https://localhost:8080/",
          "height": 280
        },
        "id": "yDw91Cv-jPKH",
        "outputId": "006fb57b-bb3d-4ea2-8426-b256fd35eae8"
      },
      "outputs": [
        {
          "data": {
            "image/png": "[encoded data removed]",
            "text/plain": [
              "<Figure size 432x288 with 1 Axes>"
            ]
          },
          "metadata": {
            "needs_background": "light"
          },
          "output_type": "display_data"
        }
      ],
      "source": [
        "from sklearn.neighbors import KNeighborsClassifier\n",
        "import numpy as np\n",
        "import matplotlib.pyplot as plt\n",
        "from sklearn.datasets import load_iris\n",
        "  \n",
        "neighbors = np.arange(1, 12) #равномерно распределенные значения в пределах заданного интервала\n",
        "train_accuracy = np.empty(len(neighbors)) #создание двух массивов размером 11 (не инициализированный)\n",
        "test_accuracy = np.empty(len(neighbors))\n",
        "\n",
        "\n",
        "# Цикл по K значениям\n",
        "for i, k in enumerate(neighbors):\n",
        "    knn = KNeighborsClassifier(n_neighbors=k)\n",
        "    knn.fit(X, y)\n",
        "    # Compute traning and test data accuracy\n",
        "    train_accuracy[i] = knn.score(X, y)\n",
        "      \n",
        "# Generate plot\n",
        "plt.plot(neighbors, train_accuracy, label = 'Training dataset Accuracy')\n",
        "  \n",
        "plt.legend()\n",
        "plt.xlabel('n_neighbors')\n",
        "plt.ylabel('Accuracy')\n",
        "plt.show()\n",
        "\n"
      ]
    },
    {
      "cell_type": "code",
      "execution_count": null,
      "metadata": {
        "colab": {
          "base_uri": "https://localhost:8080/"
        },
        "id": "X6XdLR82jQ9P",
        "outputId": "d87a3148-4727-4b43-df19-a7e5d78d1675"
      },
      "outputs": [
        {
          "name": "stdout",
          "output_type": "stream",
          "text": [
            "[0]\n",
            "[0 0 0 0 0 0 0 0 0 0 0 0 0 0 0 0 0 0 0 0 0 0 0 0 0 0 0 0 0 0 0 0 0 0 0 0 0\n",
            " 0 0 0 0 0 0 0 0 0 0 0 0 0 2 1 2 1 1 1 1 1 1 1 1 1 1 1 1 1 1 1 1 1 1 1 1 1\n",
            " 1 1 2 2 1 1 1 1 1 1 1 1 1 1 1 1 1 1 1 1 1 1 1 1 0 1 2 1 2 2 2 2 1 2 2 2 2\n",
            " 2 2 1 1 2 2 2 2 1 2 1 2 1 2 2 1 1 2 2 2 2 2 2 2 2 2 2 1 2 2 2 1 2 2 2 1 2\n",
            " 2 1]\n"
          ]
        }
      ],
      "source": [
        "# метод к-средних\n",
        "# Импортируем библиотеки\n",
        "from sklearn import datasets\n",
        "from sklearn.cluster import KMeans\n",
        "\n",
        "#print(X)\n",
        "# Описываем модель\n",
        "model = KMeans(n_clusters=3)\n",
        "\n",
        "# Проводим моделирование\n",
        "model.fit(X)\n",
        "\n",
        "# Предсказание на единичном примере\n",
        "predicted_label = model.predict([[7.2, 0.8]])\n",
        "\n",
        "# Предсказание на всем наборе данных\n",
        "all_predictions = model.predict(X)\n",
        "\n",
        "# Выводим предсказания\n",
        "print(predicted_label)\n",
        "print(all_predictions)"
      ]
    },
    {
      "cell_type": "code",
      "execution_count": null,
      "metadata": {
        "colab": {
          "base_uri": "https://localhost:8080/"
        },
        "id": "b14rIIWtjSvH",
        "outputId": "f9578cc7-2b11-4346-9c92-157b821c7cb2"
      },
      "outputs": [
        {
          "name": "stdout",
          "output_type": "stream",
          "text": [
            " i: 0    0    0\n",
            " i: 1    0    0\n",
            " i: 2    0    0\n",
            " i: 3    0    0\n",
            " i: 4    0    0\n",
            " i: 5    0    0\n",
            " i: 6    0    0\n",
            " i: 7    0    0\n",
            " i: 8    0    0\n",
            " i: 9    0    0\n",
            " i: 10    0    0\n",
            " i: 11    0    0\n",
            " i: 12    0    0\n",
            " i: 13    0    0\n",
            " i: 14    0    0\n",
            " i: 15    0    0\n",
            " i: 16    0    0\n",
            " i: 17    0    0\n",
            " i: 18    0    0\n",
            " i: 19    0    0\n",
            " i: 20    0    0\n",
            " i: 21    0    0\n",
            " i: 22    0    0\n",
            " i: 23    0    0\n",
            " i: 24    0    0\n",
            " i: 25    0    0\n",
            " i: 26    0    0\n",
            " i: 27    0    0\n",
            " i: 28    0    0\n",
            " i: 29    0    0\n",
            " i: 30    0    0\n",
            " i: 31    0    0\n",
            " i: 32    0    0\n",
            " i: 33    0    0\n",
            " i: 34    0    0\n",
            " i: 35    0    0\n",
            " i: 36    0    0\n",
            " i: 37    0    0\n",
            " i: 38    0    0\n",
            " i: 39    0    0\n",
            " i: 40    0    0\n",
            " i: 41    0    0\n",
            " i: 42    0    0\n",
            " i: 43    0    0\n",
            " i: 44    0    0\n",
            " i: 45    0    0\n",
            " i: 46    0    0\n",
            " i: 47    0    0\n",
            " i: 48    0    0\n",
            " i: 49    0    0\n",
            " i: 50    1    2\n",
            " i: 51    1    1\n",
            " i: 52    1    2\n",
            " i: 53    1    1\n",
            " i: 54    1    1\n",
            " i: 55    1    1\n",
            " i: 56    1    1\n",
            " i: 57    1    1\n",
            " i: 58    1    1\n",
            " i: 59    1    1\n",
            " i: 60    1    1\n",
            " i: 61    1    1\n",
            " i: 62    1    1\n",
            " i: 63    1    1\n",
            " i: 64    1    1\n",
            " i: 65    1    1\n",
            " i: 66    1    1\n",
            " i: 67    1    1\n",
            " i: 68    1    1\n",
            " i: 69    1    1\n",
            " i: 70    1    1\n",
            " i: 71    1    1\n",
            " i: 72    1    1\n",
            " i: 73    1    1\n",
            " i: 74    1    1\n",
            " i: 75    1    1\n",
            " i: 76    1    2\n",
            " i: 77    1    2\n",
            " i: 78    1    1\n",
            " i: 79    1    1\n",
            " i: 80    1    1\n",
            " i: 81    1    1\n",
            " i: 82    1    1\n",
            " i: 83    1    1\n",
            " i: 84    1    1\n",
            " i: 85    1    1\n",
            " i: 86    1    1\n",
            " i: 87    1    1\n",
            " i: 88    1    1\n",
            " i: 89    1    1\n",
            " i: 90    1    1\n",
            " i: 91    1    1\n",
            " i: 92    1    1\n",
            " i: 93    1    1\n",
            " i: 94    1    1\n",
            " i: 95    1    1\n",
            " i: 96    1    1\n",
            " i: 97    1    1\n",
            " i: 98    1    0\n",
            " i: 99    1    1\n",
            " i: 100    2    2\n",
            " i: 101    2    1\n",
            " i: 102    2    2\n",
            " i: 103    2    2\n",
            " i: 104    2    2\n",
            " i: 105    2    2\n",
            " i: 106    2    1\n",
            " i: 107    2    2\n",
            " i: 108    2    2\n",
            " i: 109    2    2\n",
            " i: 110    2    2\n",
            " i: 111    2    2\n",
            " i: 112    2    2\n",
            " i: 113    2    1\n",
            " i: 114    2    1\n",
            " i: 115    2    2\n",
            " i: 116    2    2\n",
            " i: 117    2    2\n",
            " i: 118    2    2\n",
            " i: 119    2    1\n",
            " i: 120    2    2\n",
            " i: 121    2    1\n",
            " i: 122    2    2\n",
            " i: 123    2    1\n",
            " i: 124    2    2\n",
            " i: 125    2    2\n",
            " i: 126    2    1\n",
            " i: 127    2    1\n",
            " i: 128    2    2\n",
            " i: 129    2    2\n",
            " i: 130    2    2\n",
            " i: 131    2    2\n",
            " i: 132    2    2\n",
            " i: 133    2    2\n",
            " i: 134    2    2\n",
            " i: 135    2    2\n",
            " i: 136    2    2\n",
            " i: 137    2    2\n",
            " i: 138    2    1\n",
            " i: 139    2    2\n",
            " i: 140    2    2\n",
            " i: 141    2    2\n",
            " i: 142    2    1\n",
            " i: 143    2    2\n",
            " i: 144    2    2\n",
            " i: 145    2    2\n",
            " i: 146    2    1\n",
            " i: 147    2    2\n",
            " i: 148    2    2\n",
            " i: 149    2    1\n"
          ]
        }
      ],
      "source": [
        "target=iris['target']\n",
        "len(target)\n",
        "len(all_predictions)\n",
        "for i in range(len(target)):\n",
        "   print(' i:',i,'  ', target[i] ,'  ',all_predictions[i])"
      ]
    },
    {
      "cell_type": "code",
      "execution_count": null,
      "metadata": {
        "colab": {
          "base_uri": "https://localhost:8080/"
        },
        "id": "pv_jCPXxjUKv",
        "outputId": "17201778-df14-4de6-d265-c18724081718"
      },
      "outputs": [
        {
          "name": "stdout",
          "output_type": "stream",
          "text": [
            "[0 0 0 0 0 0 0 0 0 0 0 0 0 0 0 0 0 0 0 0 0 0 0 0 0 0 0 0 0 0 0 0 0 0 0 0 0\n",
            " 0 0 0 0 0 0 0 0 0 0 0 0 0 2 1 2 1 1 1 1 1 1 1 1 1 1 1 1 1 1 1 1 1 1 1 1 1\n",
            " 1 1 2 2 1 1 1 1 1 1 1 1 1 1 1 1 1 1 1 1 1 1 1 1 0 1 2 1 2 2 2 2 1 2 2 2 2\n",
            " 2 2 1 1 2 2 2 2 1 2 1 2 1 2 2 1 1 2 2 2 2 2 2 2 2 2 2 1 2 2 2 1 2 2 2 1 2\n",
            " 2 1]\n",
            "0.88\n"
          ]
        }
      ],
      "source": [
        "from sklearn.metrics import confusion_matrix\n",
        "from sklearn.metrics import accuracy_score\n",
        "predictions = model.predict(X) #Определим метки классов для тестовых данных\n",
        "accuracy_score(y, predictions) #Оценим точность определения меток\n",
        "\n",
        "print(predictions)\n",
        "print(accuracy_score(y, predictions))"
      ]
    },
    {
      "cell_type": "code",
      "execution_count": null,
      "metadata": {
        "colab": {
          "base_uri": "https://localhost:8080/"
        },
        "id": "6utc_vc3jVWP",
        "outputId": "f984aad2-1970-4a1b-8888-a7d904773445"
      },
      "outputs": [
        {
          "data": {
            "text/plain": [
              "array([[50,  0,  0],\n",
              "       [ 1, 45,  4],\n",
              "       [ 0, 13, 37]])"
            ]
          },
          "execution_count": 30,
          "metadata": {},
          "output_type": "execute_result"
        }
      ],
      "source": [
        "confusion_matrix(y, predictions)"
      ]
    }
  ],
  "metadata": {
    "colab": {
      "provenance": []
    },
    "kernelspec": {
      "display_name": "Python 3",
      "name": "python3"
    },
    "language_info": {
      "codemirror_mode": {
        "name": "ipython",
        "version": 3
      },
      "file_extension": ".py",
      "mimetype": "text/x-python",
      "name": "python",
      "nbconvert_exporter": "python",
      "pygments_lexer": "ipython3",
      "version": "3.9.6"
    }
  },
  "nbformat": 4,
  "nbformat_minor": 0
}
