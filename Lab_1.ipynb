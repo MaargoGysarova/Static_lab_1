{
 "cells": [
  {
   "cell_type": "code",
   "execution_count": 14,
   "outputs": [],
   "source": [
    "import numpy as np\n",
    "import matplotlib.pyplot as plt\n",
    "import scipy.stats as sts\n",
    "import math"
   ],
   "metadata": {
    "collapsed": false,
    "ExecuteTime": {
     "end_time": "2023-09-18T10:13:22.002222Z",
     "start_time": "2023-09-18T10:13:21.988177Z"
    }
   },
   "id": "319dbd552e938e09"
  },
  {
   "cell_type": "markdown",
   "source": [
    "Пункт 1.1"
   ],
   "metadata": {
    "collapsed": false
   },
   "id": "bf02fbee824eee1e"
  },
  {
   "cell_type": "markdown",
   "source": [
    "Генерация генеральной совокупности нормального распределения"
   ],
   "metadata": {
    "collapsed": false
   },
   "id": "6b7c5139af86c292"
  },
  {
   "cell_type": "code",
   "execution_count": 25,
   "outputs": [],
   "source": [
    "def generation_norm_random(a=-2, sigma=3, n_points=110):\n",
    "    massiv = np.random.normal(a, sigma, n_points)\n",
    "    print(massiv)\n",
    "    return massiv"
   ],
   "metadata": {
    "collapsed": false,
    "ExecuteTime": {
     "end_time": "2023-09-18T10:18:42.343474Z",
     "start_time": "2023-09-18T10:18:42.327750Z"
    }
   },
   "id": "6c6981b379401cc1"
  },
  {
   "cell_type": "code",
   "execution_count": 22,
   "id": "initial_id",
   "metadata": {
    "collapsed": true,
    "ExecuteTime": {
     "end_time": "2023-09-18T10:14:27.819373Z",
     "start_time": "2023-09-18T10:14:27.786476Z"
    }
   },
   "outputs": [],
   "source": [
    "def plot_norm(a=0,sigma=1,n_points=110):\n",
    "    massiv = generation_norm_random(a, sigma, n_points)\n",
    "    plt.hist(massiv, density=True, histtype='stepfilled', alpha=0.8)\n",
    "    plt.title('Гистограмма нормального распределения')\n",
    "    plt.show()"
   ]
  },
  {
   "cell_type": "markdown",
   "source": [
    "Вычисление стандартное отклонение значений ряда измерений в ручную"
   ],
   "metadata": {
    "collapsed": false
   },
   "id": "4e6eadd54768b515"
  },
  {
   "cell_type": "code",
   "execution_count": 23,
   "outputs": [],
   "source": [
    "def calc_std(massiv):\n",
    "    sum = 0\n",
    "    for i in massiv:\n",
    "        sum += i\n",
    "    mean = sum / len(massiv)\n",
    "    sum = 0\n",
    "    for i in massiv:\n",
    "        sum += (i - mean) ** 2\n",
    "    return math.sqrt(sum / (len(massiv) - 1))"
   ],
   "metadata": {
    "collapsed": false,
    "ExecuteTime": {
     "end_time": "2023-09-18T10:14:30.025097Z",
     "start_time": "2023-09-18T10:14:30.017660Z"
    }
   },
   "id": "a1b832c83e6dca0f"
  },
  {
   "cell_type": "markdown",
   "source": [
    "Расчет числа интервалов и длину интервала группироваки по правилу Скотта"
   ],
   "metadata": {
    "collapsed": false
   },
   "id": "71ded7d76456c8d8"
  },
  {
   "cell_type": "code",
   "execution_count": 10,
   "outputs": [],
   "source": [
    "def calc_k_scott(n_points, massiv):\n",
    "    h = 3.5 * calc_std(massiv) / (n_points ** (1 / 3))\n",
    "    k = int((max(massiv) - min(massiv)) / h)\n",
    "    return h, k"
   ],
   "metadata": {
    "collapsed": false,
    "ExecuteTime": {
     "end_time": "2023-09-18T10:09:07.474724Z",
     "start_time": "2023-09-18T10:09:07.422076Z"
    }
   },
   "id": "cea25b14de9b8067"
  },
  {
   "cell_type": "markdown",
   "source": [
    "Вычисление суммы абсолютных частот в интервалах группировки и построить диагармму ассолютных частот"
   ],
   "metadata": {
    "collapsed": false
   },
   "id": "ec75446e9d5a6b82"
  },
  {
   "cell_type": "code",
   "execution_count": 11,
   "outputs": [],
   "source": [
    "def calc_abs_freq(massiv, k, h):\n",
    "    ## вычисление суммы абсолютных частот в интервалах группировки через библиотеку numpy\n",
    "    abs_freq = np.histogram(massiv, bins=k, range=(min(massiv), max(massiv)))[0]\n",
    "    ## диаграмма ассолютных частот\n",
    "    plt.bar(np.arange(k), abs_freq, width=1, alpha=0.8)\n",
    "    plt.title('Диаграмма абсолютных частот')\n",
    "    plt.show()\n",
    "    return abs_freq"
   ],
   "metadata": {
    "collapsed": false,
    "ExecuteTime": {
     "end_time": "2023-09-18T10:09:07.476552Z",
     "start_time": "2023-09-18T10:09:07.428431Z"
    }
   },
   "id": "562d09999bda3040"
  }
 ],
 "metadata": {
  "kernelspec": {
   "display_name": "Python 3",
   "language": "python",
   "name": "python3"
  },
  "language_info": {
   "codemirror_mode": {
    "name": "ipython",
    "version": 2
   },
   "file_extension": ".py",
   "mimetype": "text/x-python",
   "name": "python",
   "nbconvert_exporter": "python",
   "pygments_lexer": "ipython2",
   "version": "2.7.6"
  }
 },
 "nbformat": 4,
 "nbformat_minor": 5
}
